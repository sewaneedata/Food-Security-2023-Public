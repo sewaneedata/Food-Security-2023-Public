{
 "cells": [
  {
   "cell_type": "markdown",
   "metadata": {
    "id": "BxLrLbljhasj"
   },
   "source": [
    "# **Import Functions**"
   ]
  },
  {
   "cell_type": "code",
   "execution_count": null,
   "metadata": {
    "id": "eBCJhUvldD3w"
   },
   "outputs": [],
   "source": [
    "import pandas as pd\n",
    "import numpy as np\n",
    "import matplotlib.pyplot as plt\n",
    "import seaborn as sns"
   ]
  },
  {
   "cell_type": "markdown",
   "metadata": {
    "id": "gcbVJg4ohhO5"
   },
   "source": [
    "# **Reading the Data**"
   ]
  },
  {
   "cell_type": "code",
   "execution_count": null,
   "metadata": {
    "id": "kyDqPzpCdJzi"
   },
   "outputs": [],
   "source": [
    "# Make use of the main google sheet for accessing the data\n",
    "def read_google_sheet(sheetId, sheetName):\n",
    "  SHEET_ID = sheetId\n",
    "  SHEET_NAME = sheetName\n",
    "  url = f'https://docs.google.com/spreadsheets/d/{SHEET_ID}/gviz/tq?tqx=out:csv&sheet={SHEET_NAME}'\n",
    "\n",
    "  return url\n",
    "\n",
    "# replace the google_sheet_token with the token of your desired google sheet from the link. Replace the name_of_sheet with the name of the sheet you want to access.\n",
    "addresses = pd.read_csv(read_google_sheet('google_sheet_token', 'name_of_sheet'), index_col=0)\n",
    "weather = pd.read_csv(read_google_sheet('google_sheet_token', 'name_of_sheet'), index_col=0)\n",
    "meal_counts = pd.read_csv(read_google_sheet('google_sheet_token', 'name_of_sheet'), index_col=0)\n",
    "unserved_people = pd.read_csv(read_google_sheet('google_sheet_token', 'name_of_sheet'), index_col=0)\n",
    "congvsnoncong = pd.read_csv(read_google_sheet('google_sheet_token', 'name_of_sheet'), index_col=0)\n",
    "event = pd.read_csv(read_google_sheet('google_sheet_token', 'name_of_sheet'), index_col=0)\n",
    "data_2019 = pd.read_csv(read_google_sheet('google_sheet_token', 'name_of_sheet'), index_col=0)\n",
    "region_size = pd.read_csv(read_google_sheet('google_sheet_token', 'name_of_sheet'), index_col=0)\n",
    "data_2023 = pd.read_csv(read_google_sheet('google_sheet_token', 'name_of_sheet'), index_col=0)\n",
    "\n",
    "# make use of the google form sheet link for adding new data moving forward\n",
    "new_url = f'https://docs.google.com/spreadsheets/d/{SHEET_ID}/gviz/tq?tqx=out:csv&sheet={SHEET_NAME}'\n",
    "new_response = pd.read_csv(new_url, index_col = 0)\n"
   ]
  },
  {
   "cell_type": "code",
   "execution_count": null,
   "metadata": {
    "id": "S82NWrFHdPax"
   },
   "outputs": [],
   "source": [
    "addresses = addresses.reset_index()\n",
    "weather = weather.reset_index()\n",
    "meal_counts = meal_counts.reset_index()\n",
    "unserved_people = unserved_people.reset_index()\n",
    "congvsnoncong = congvsnoncong.reset_index()\n",
    "event = event.reset_index()\n",
    "data_2019 = data_2019.reset_index()\n",
    "region_size = region_size.reset_index()\n",
    "data_2023 = data_2023.reset_index()\n",
    "new_response = new_response.reset_index()"
   ]
  },
  {
   "cell_type": "markdown",
   "metadata": {
    "id": "36hGxPkudRlG"
   },
   "source": [
    "# **Overview of the Data**"
   ]
  },
  {
   "cell_type": "code",
   "execution_count": null,
   "metadata": {
    "colab": {
     "base_uri": "https://localhost:8080/"
    },
    "id": "pc-N4syMPRCU",
    "outputId": "1c7b8092-3241-4e0c-bdd1-c5f5a51168a5"
   },
   "outputs": [],
   "source": [
    "data = [addresses, weather, meal_counts, unserved_people, congvsnoncong, data_2019, new_response]\n",
    "\n",
    "for df in data:\n",
    "  print(\"__________________________________________________________________________________________________________________\")\n",
    "  print(f\"Shape: {df.shape}\")\n",
    "  print(f\"Columns: {df.columns}\")\n",
    "  print(f\"Info: {df.info()}\")\n",
    "  print(\"Sample records:\")\n",
    "  print(df.head(3).to_string(index=False))\n",
    "  print(\"__________________________________________________________________________________________________________________\")\n",
    "\n"
   ]
  },
  {
   "cell_type": "markdown",
   "metadata": {
    "id": "nAXwtJZgd63_"
   },
   "source": [
    "# **Data Analysis**"
   ]
  },
  {
   "cell_type": "code",
   "execution_count": null,
   "metadata": {
    "colab": {
     "base_uri": "https://localhost:8080/"
    },
    "id": "NanqugSneHGh",
    "outputId": "b4120a43-de04-44d3-9b04-4edf4926db6d"
   },
   "outputs": [],
   "source": [
    "def years_shape(x, col):\n",
    "  years = [2015, 2016, 2017, 2018, 2019, 2020, 2021, 2022, 2023]\n",
    "\n",
    "  shapes = []\n",
    "  for year in years:\n",
    "    shapes.append(x[x[col] == year].shape)\n",
    "\n",
    "  return shapes\n",
    "\n",
    "print(meal_counts.shape)\n",
    "print(years_shape(meal_counts, 'Year'))\n",
    "\n",
    "meal_counts = meal_counts.drop('Timestamp', axis=1).drop_duplicates()\n",
    "\n",
    "print(meal_counts.shape)\n",
    "print(years_shape(meal_counts, 'Year'))\n",
    "\n",
    "years = [2016, 2017, 2018, 2019, 2020, 2021, 2022]\n",
    "meal_counts1 = meal_counts[meal_counts['Year'].isin(years)]\n",
    "\n",
    "print(meal_counts1.shape)\n",
    "print(years_shape(meal_counts1, 'Year'))"
   ]
  },
  {
   "cell_type": "code",
   "execution_count": null,
   "metadata": {
    "id": "JYuB7OSMeRBf"
   },
   "outputs": [],
   "source": [
    "def validation1(x):\n",
    "  before_operation = x['Number of Meals Received / Prepared'] + x['Meals available from previous day']\n",
    "  after_operation = x['total number of meals served'] + x['Total damaged/incomplete/other non-reimbursable meals'] + x['Total leftover meals']\n",
    "\n",
    "  return before_operation != after_operation\n",
    "\n",
    "def validation2(x):\n",
    "  before_operation = x['Number of Meals Received / Prepared'] + x['Meals available from previous day']\n",
    "  after_operation = x['Total number of first meals '] + x['Total number second meals'] + x['total program adult meals'] + x['total non-program adult meals'] + x['Total damaged/incomplete/other non-reimbursable meals'] + x['Total leftover meals']\n",
    "\n",
    "  return before_operation != after_operation\n",
    "\n",
    "def validation3(x):\n",
    "  before_operation = x['total number of meals served']\n",
    "  after_operation = x['Total number of first meals '] + x['Total number second meals'] + x['total program adult meals'] + x['total non-program adult meals']\n",
    "\n",
    "  return before_operation != after_operation\n"
   ]
  },
  {
   "cell_type": "code",
   "execution_count": null,
   "metadata": {
    "colab": {
     "base_uri": "https://localhost:8080/"
    },
    "id": "GaQeqFVQeWvL",
    "outputId": "b38dbf37-1998-4ca8-c1cc-39e01d228983"
   },
   "outputs": [],
   "source": [
    "error1 = meal_counts1.apply(validation1, axis=1)\n",
    "error2 = meal_counts1.apply(validation2, axis=1)\n",
    "error3 = meal_counts1.apply(validation3, axis=1)\n",
    "meal_counts1['error'] = error1 | error2 | error3\n",
    "\n",
    "meal_counts2 = meal_counts1[meal_counts1['error']==False]\n",
    "\n",
    "print(meal_counts2.shape)\n",
    "print(years_shape(meal_counts2, 'Year'))\n"
   ]
  },
  {
   "cell_type": "code",
   "execution_count": null,
   "metadata": {
    "colab": {
     "base_uri": "https://localhost:8080/"
    },
    "id": "zYJ5w9d2eopC",
    "outputId": "84d52b4d-a40c-4adc-ba8b-7eb80ec494cf"
   },
   "outputs": [],
   "source": [
    "meal_counts3 = meal_counts2[(meal_counts2['Site Name'].notnull()) & (meal_counts2['Date'].notnull())]\n",
    "\n",
    "print(meal_counts3.shape)\n",
    "print(years_shape(meal_counts3, 'Year'))"
   ]
  },
  {
   "cell_type": "code",
   "execution_count": null,
   "metadata": {
    "colab": {
     "base_uri": "https://localhost:8080/"
    },
    "id": "JUdLjLOEew8F",
    "outputId": "caee0621-5e5f-40c7-c947-a80c10f9b81a"
   },
   "outputs": [],
   "source": [
    "meal_counts4 = meal_counts3.drop_duplicates(['Site Name', 'Date', 'Meal Type', 'Delivery Time',\n",
    "        'Number of Meals Received / Prepared',\n",
    "        'Meals available from previous day', 'Total number of first meals ',\n",
    "        'Total number second meals', 'total program adult meals',\n",
    "        'total non-program adult meals', 'total number of meals served',\n",
    "        'Total damaged/incomplete/other non-reimbursable meals',\n",
    "        'Total leftover meals'])\n",
    "\n",
    "print(meal_counts4.shape)\n",
    "print(years_shape(meal_counts4, 'Year'))"
   ]
  },
  {
   "cell_type": "code",
   "execution_count": null,
   "metadata": {
    "colab": {
     "base_uri": "https://localhost:8080/"
    },
    "id": "29bZysdGe27k",
    "outputId": "3906444e-b6b0-48f1-98a9-4d090bc6d73a"
   },
   "outputs": [],
   "source": [
    "meal_counts4['date'] = pd.to_datetime(meal_counts4['Date'], errors='coerce')\n",
    "meal_counts4['week_number'] = meal_counts4['date'].dt.isocalendar().week\n",
    "\n",
    "meal_counts4.columns"
   ]
  },
  {
   "cell_type": "code",
   "execution_count": null,
   "metadata": {
    "colab": {
     "base_uri": "https://localhost:8080/"
    },
    "id": "sSjw_d3je6K6",
    "outputId": "db6d0200-a6b7-45ef-f8e9-16cdd799a256"
   },
   "outputs": [],
   "source": [
    "meal_unserved_counts = pd.merge(meal_counts4, unserved_people[['Name Of Site', 'Number of additional children requesting meals after all available meals were served:', 'Date', 'Meal Type']], how='left', left_on=['Site Name', 'Date', 'Meal Type'], right_on=['Name Of Site', 'Date', 'Meal Type'])\n",
    "\n",
    "print(meal_unserved_counts.shape)\n",
    "print(years_shape(meal_unserved_counts, 'Year'))"
   ]
  },
  {
   "cell_type": "code",
   "execution_count": null,
   "metadata": {
    "id": "8TV3HVlm9Bj5"
   },
   "outputs": [],
   "source": [
    "import math\n",
    "\n",
    "def divide_meals_by_5(counts, meal_numbers):\n",
    "\n",
    "  for column in meal_numbers:\n",
    "    counts[column] = counts[column].apply(lambda x: math.ceil(x / 5))\n"
   ]
  },
  {
   "cell_type": "code",
   "execution_count": null,
   "metadata": {
    "id": "_j47DqiO31GM"
   },
   "outputs": [],
   "source": [
    "def data_cleaning_pipeline_cong(df):\n",
    "  print(\"Initial Data: \",df.shape)\n",
    "  error1 = df.apply(validation1, axis=1)\n",
    "  error2 = df.apply(validation2, axis=1)\n",
    "  error3 = df.apply(validation3, axis=1)\n",
    "  df['error'] = error1 | error2 | error3\n",
    "\n",
    "  df = df[df['error']==False]\n",
    "\n",
    "  print(\"Data after error validation: \",df.shape)\n",
    "\n",
    "  df1 = df[(df['Site Name'].notnull()) & (df['Date'].notnull())]\n",
    "\n",
    "  print(\"Data after empty site names and dates removed: \",df1.shape)\n",
    "\n",
    "  df2 = df1[['Site Name', 'Date', 'Meal Type',\n",
    "       'Number of Meals Received / Prepared',\n",
    "       'Meals available from previous day', 'Total number of first meals ',\n",
    "       'Total number second meals', 'total program adult meals',\n",
    "       'total non-program adult meals', 'total number of meals served',\n",
    "       'Total damaged/incomplete/other non-reimbursable meals',\n",
    "       'Total leftover meals',\n",
    "       'Number of additional children requesting meals after all available meals were served:',\n",
    "       'error']]\n",
    "\n",
    "  df3 = df2.drop_duplicates(['Site Name', 'Date', 'Meal Type',\n",
    "       'Number of Meals Received / Prepared',\n",
    "       'Meals available from previous day', 'Total number of first meals ',\n",
    "       'Total number second meals', 'total program adult meals',\n",
    "       'total non-program adult meals', 'total number of meals served',\n",
    "       'Total damaged/incomplete/other non-reimbursable meals',\n",
    "       'Total leftover meals',\n",
    "       'Number of additional children requesting meals after all available meals were served:'])\n",
    "\n",
    "  print(\"Data after dropping duplicates: \",df3.shape)\n",
    "\n",
    "  df3['date'] = pd.to_datetime(df3['Date'], errors='coerce')\n",
    "  df3['week_number'] = df3['date'].dt.isocalendar().week\n",
    "\n",
    "  df3['Year'] = df3['date'].dt.year\n",
    "  df3['Day of Week'] = (df3['date'].dt.dayofweek + 1) % 7 + 1\n",
    "\n",
    "  return df3"
   ]
  },
  {
   "cell_type": "code",
   "execution_count": null,
   "metadata": {
    "colab": {
     "base_uri": "https://localhost:8080/"
    },
    "id": "bT0lsGAw6XnB",
    "outputId": "03528969-a486-4567-f1e9-c22e6218a3dd"
   },
   "outputs": [],
   "source": [
    "cleaned_2019_data = data_cleaning_pipeline_cong(data_2019)\n",
    "cleaned_2019_data.columns"
   ]
  },
  {
   "cell_type": "code",
   "execution_count": null,
   "metadata": {
    "id": "hzmQOHeUwX98"
   },
   "outputs": [],
   "source": [
    "def data_cleaning_pipeline_noncong(df):\n",
    "  print(\"Initial Data: \",df.shape)\n",
    "  error1 = df.apply(validation1, axis=1)\n",
    "  error2 = df.apply(validation2, axis=1)\n",
    "  error3 = df.apply(validation3, axis=1)\n",
    "  df['error'] = error1 | error2 | error3\n",
    "\n",
    "  df = df[df['error']==False]\n",
    "\n",
    "  print(\"Data after error validation: \",df.shape)\n",
    "\n",
    "  df1 = df[(df['Site Name'].notnull()) & (df['Date'].notnull())]\n",
    "\n",
    "  print(\"Data after empty site names and dates removed: \",df1.shape)\n",
    "\n",
    "  df2 = df1[['Site Name', 'Date', 'Meal Type',\n",
    "       'Number of Meals Received / Prepared',\n",
    "       'Meals available from previous day', 'Total number of first meals ',\n",
    "       'Total number second meals', 'total program adult meals',\n",
    "       'total non-program adult meals', 'total number of meals served',\n",
    "       'Total damaged/incomplete/other non-reimbursable meals',\n",
    "       'Total leftover meals',\n",
    "       'Number of additional children requesting meals after all available meals were served:',\n",
    "       'error']]\n",
    "\n",
    "  df3 = df2.drop_duplicates(['Site Name', 'Date', 'Meal Type',\n",
    "       'Number of Meals Received / Prepared',\n",
    "       'Meals available from previous day', 'Total number of first meals ',\n",
    "       'Total number second meals', 'total program adult meals',\n",
    "       'total non-program adult meals', 'total number of meals served',\n",
    "       'Total damaged/incomplete/other non-reimbursable meals',\n",
    "       'Total leftover meals',\n",
    "       'Number of additional children requesting meals after all available meals were served:'])\n",
    "\n",
    "  print(\"Data after dropping duplicates: \",df3.shape)\n",
    "\n",
    "  meal_numbers = ['Number of Meals Received / Prepared',\n",
    "       'Meals available from previous day', 'Total number of first meals ',\n",
    "       'Total number second meals', 'total program adult meals',\n",
    "       'total non-program adult meals', 'total number of meals served',\n",
    "       'Total damaged/incomplete/other non-reimbursable meals',\n",
    "       'Total leftover meals',\n",
    "       'Number of additional children requesting meals after all available meals were served:']\n",
    "\n",
    "  divide_meals_by_5(df3, meal_numbers)\n",
    "\n",
    "  df3['date'] = pd.to_datetime(df3['Date'], errors='coerce')\n",
    "  df3['week_number'] = df3['date'].dt.isocalendar().week\n",
    "\n",
    "  df3['Year'] = df3['date'].dt.year\n",
    "  df3['Day of Week'] = (df3['date'].dt.dayofweek + 1) % 7 + 1\n",
    "\n",
    "  return df3"
   ]
  },
  {
   "cell_type": "code",
   "execution_count": null,
   "metadata": {
    "colab": {
     "base_uri": "https://localhost:8080/",
     "height": 1000
    },
    "id": "r5R9McdoO-Ua",
    "outputId": "db44dd8e-e54e-4620-9274-2d47111fd969"
   },
   "outputs": [],
   "source": [
    "cleaned_2023_data = data_cleaning_pipeline_noncong(data_2023)\n",
    "cleaned_2023_data"
   ]
  },
  {
   "cell_type": "code",
   "execution_count": null,
   "metadata": {
    "colab": {
     "base_uri": "https://localhost:8080/",
     "height": 322
    },
    "id": "zKusuyNSlQqC",
    "outputId": "6cdefc4c-8e3a-4352-8c0a-ca84249a8421"
   },
   "outputs": [],
   "source": [
    "cleaned_new_response = data_cleaning_pipeline_noncong(new_response)\n",
    "cleaned_new_response"
   ]
  },
  {
   "cell_type": "code",
   "execution_count": null,
   "metadata": {
    "id": "ZgIX1YAd5WNk"
   },
   "outputs": [],
   "source": [
    "meal_unserved_counts = meal_unserved_counts[['Site Name',\n",
    "       'Date', 'Meal Type',\n",
    "       'Number of Meals Received / Prepared',\n",
    "       'Meals available from previous day', 'Total number of first meals ',\n",
    "       'Total number second meals', 'total program adult meals',\n",
    "       'total non-program adult meals', 'total number of meals served',\n",
    "       'Total damaged/incomplete/other non-reimbursable meals',\n",
    "       'Total leftover meals', 'Year',\n",
    "       'Day of Week', 'error', 'date', 'week_number',\n",
    "       'Number of additional children requesting meals after all available meals were served:']]"
   ]
  },
  {
   "cell_type": "code",
   "execution_count": null,
   "metadata": {
    "colab": {
     "base_uri": "https://localhost:8080/"
    },
    "id": "QV4mw_YG75jg",
    "outputId": "5fdecc4d-078e-452a-d635-9a1d72ac73e3"
   },
   "outputs": [],
   "source": [
    "meal_unserved_counts1 = pd.concat([meal_unserved_counts, cleaned_2019_data], ignore_index=True)\n",
    "\n",
    "print(meal_unserved_counts1.shape)\n",
    "print(years_shape(meal_unserved_counts1, 'Year'))"
   ]
  },
  {
   "cell_type": "code",
   "execution_count": null,
   "metadata": {
    "colab": {
     "base_uri": "https://localhost:8080/"
    },
    "id": "ECalno_zlCZ7",
    "outputId": "e15b8871-b686-499f-fec2-9f032b424554"
   },
   "outputs": [],
   "source": [
    "meal_unserved_counts2 = pd.concat([meal_unserved_counts1, cleaned_new_response], ignore_index=True)\n",
    "\n",
    "print(meal_unserved_counts2.shape)\n",
    "print(years_shape(meal_unserved_counts2, 'Year'))"
   ]
  },
  {
   "cell_type": "code",
   "execution_count": null,
   "metadata": {
    "colab": {
     "base_uri": "https://localhost:8080/"
    },
    "id": "h41fieySYPD8",
    "outputId": "ed26478c-bd49-4c1f-ae58-5e8969c548e0"
   },
   "outputs": [],
   "source": [
    "meal_counts_data = pd.concat([meal_unserved_counts2, cleaned_2023_data], ignore_index=True)\n",
    "\n",
    "print(meal_counts_data.shape)\n",
    "print(years_shape(meal_counts_data, 'Year'))"
   ]
  },
  {
   "cell_type": "code",
   "execution_count": null,
   "metadata": {
    "colab": {
     "base_uri": "https://localhost:8080/",
     "height": 226
    },
    "id": "PhUyLKc0fKEM",
    "outputId": "c0f21738-b90a-4a79-ca1d-1906ec408f72"
   },
   "outputs": [],
   "source": [
    "adddresses_notnull = addresses[addresses['Region'].notna()]\n",
    "addresses[addresses['Region'].isna()]"
   ]
  },
  {
   "cell_type": "code",
   "execution_count": null,
   "metadata": {
    "id": "Tk-5WgaVms5M"
   },
   "outputs": [],
   "source": [
    "regions = pd.merge(adddresses_notnull[['Name Of Site', 'Address', 'Zip Code', 'County', 'Region']], region_size[['region', 'size']],left_on=['Region'], right_on=['region'])"
   ]
  },
  {
   "cell_type": "code",
   "execution_count": null,
   "metadata": {
    "colab": {
     "base_uri": "https://localhost:8080/"
    },
    "id": "9huhHBtjfRdE",
    "outputId": "86b82a33-f7a9-4401-9424-723d55c16326"
   },
   "outputs": [],
   "source": [
    "meals_dataset = pd.merge(meal_counts_data, regions[['Name Of Site', 'Address', 'Zip Code', 'County', 'Region', 'size']], left_on=['Site Name'], right_on=['Name Of Site'])\n",
    "\n",
    "print(meals_dataset.shape)\n",
    "print(years_shape(meals_dataset, 'Year'))"
   ]
  },
  {
   "cell_type": "code",
   "execution_count": null,
   "metadata": {
    "colab": {
     "base_uri": "https://localhost:8080/"
    },
    "id": "AK9TmrbUfWgj",
    "outputId": "9c8033eb-b1d6-49c6-9058-ead90020b6ce"
   },
   "outputs": [],
   "source": [
    "meal_counts_data[meal_counts_data['Site Name'] == 'Town Creek'].shape"
   ]
  },
  {
   "cell_type": "code",
   "execution_count": null,
   "metadata": {
    "colab": {
     "base_uri": "https://localhost:8080/"
    },
    "id": "xibqTUb2fcfx",
    "outputId": "6bcdb234-20df-45e6-a409-d093aad7470e"
   },
   "outputs": [],
   "source": [
    "people_counts1 = meals_dataset[['Site Name', 'Date', 'Meal Type',\n",
    "       'Number of Meals Received / Prepared', 'week_number',\n",
    "       'Meals available from previous day', 'Total number of first meals ',\n",
    "       'Total number second meals', 'total program adult meals',\n",
    "       'total non-program adult meals', 'total number of meals served',\n",
    "       'Total damaged/incomplete/other non-reimbursable meals',\n",
    "       'Total leftover meals', 'Year', 'Number of additional children requesting meals after all available meals were served:',\n",
    "       'Day of Week', 'Address', 'Zip Code', 'County', 'Region', 'size']]\n",
    "\n",
    "people_counts1.rename(columns={'Site Name':'site_name', 'Date':'date', 'Meal Type' : 'meal_type',\n",
    "                            'Number of Meals Received / Prepared': 'ordered_meals', 'Meals available from previous day': 'previous_day_meals',\n",
    "                            'Total number of first meals ': 'first_meals', 'Total number second meals': 'second_meals',\n",
    "                            'total program adult meals': 'program_adult_meals', 'total non-program adult meals': 'nonprogram_adult_meals',\n",
    "                            'total number of meals served': 'served_meals', 'Total damaged/incomplete/other non-reimbursable meals': 'damaged_meals',\n",
    "                            'Total leftover meals': 'leftover_meals', 'Year': 'year', 'Day of Week': 'day_of_week',\n",
    "                            'Number of additional children requesting meals after all available meals were served:': 'unserved_people',\n",
    "                            'Address':'address', 'Zip Code': 'zip_code', 'County': 'county',\n",
    "                            'Region': 'region'}, inplace=True)"
   ]
  },
  {
   "cell_type": "code",
   "execution_count": null,
   "metadata": {
    "colab": {
     "base_uri": "https://localhost:8080/"
    },
    "id": "hEmLYiGifiEr",
    "outputId": "bdf2053d-716c-4f9c-eb61-96ac2c0517c1"
   },
   "outputs": [],
   "source": [
    "people_counts1.shape"
   ]
  },
  {
   "cell_type": "code",
   "execution_count": null,
   "metadata": {
    "colab": {
     "base_uri": "https://localhost:8080/"
    },
    "id": "N9XBUU8dfmE1",
    "outputId": "d02764ef-8570-4a3b-d696-a16e22e64626"
   },
   "outputs": [],
   "source": [
    "people_counts1.isna().sum()"
   ]
  },
  {
   "cell_type": "code",
   "execution_count": null,
   "metadata": {
    "colab": {
     "base_uri": "https://localhost:8080/"
    },
    "id": "KtFR0S7Jfpih",
    "outputId": "7f8d3ed6-a4db-4d81-dd3f-c8faa1f6bc85"
   },
   "outputs": [],
   "source": [
    "people_counts1['unserved_people'].fillna(0, inplace=True)"
   ]
  },
  {
   "cell_type": "code",
   "execution_count": null,
   "metadata": {
    "id": "61mGrTvDnIPp"
   },
   "outputs": [],
   "source": [
    "def drop_noncong_duplicates(df):\n",
    "  numerical_columns = ['ordered_meals', 'previous_day_meals',\n",
    "          'first_meals', 'second_meals', 'program_adult_meals',\n",
    "          'nonprogram_adult_meals', 'served_meals', 'damaged_meals',\n",
    "          'leftover_meals', 'unserved_people']\n",
    "\n",
    "  aggregations = {col: 'mean' for col in numerical_columns}\n",
    "  aggregations['meal_type'] = lambda x: 'Breakfast+Lunch'\n",
    "\n",
    "  return df.groupby(['site_name', 'date', 'year', 'day_of_week', 'week_number', 'address', 'zip_code', 'county', 'region', 'size']).agg(aggregations).reset_index()\n"
   ]
  },
  {
   "cell_type": "code",
   "execution_count": null,
   "metadata": {
    "colab": {
     "base_uri": "https://localhost:8080/"
    },
    "id": "5v_G9z7hftl5",
    "outputId": "cf67adb7-e34c-4394-f4af-6664aba35120"
   },
   "outputs": [],
   "source": [
    "people_counts1_2020 = people_counts1[people_counts1['year'] == 2020]\n",
    "people_counts1_2020.shape"
   ]
  },
  {
   "cell_type": "code",
   "execution_count": null,
   "metadata": {
    "colab": {
     "base_uri": "https://localhost:8080/"
    },
    "id": "SBlfsmbIfudj",
    "outputId": "dfecab73-1709-437f-d408-26f0eb40780f"
   },
   "outputs": [],
   "source": [
    "people_2020 = drop_noncong_duplicates(people_counts1_2020)\n",
    "people_2020.shape"
   ]
  },
  {
   "cell_type": "code",
   "execution_count": null,
   "metadata": {
    "colab": {
     "base_uri": "https://localhost:8080/"
    },
    "id": "5jYxNOdQfxza",
    "outputId": "18bfd737-7fbf-43d3-a66e-1f98040591dc"
   },
   "outputs": [],
   "source": [
    "noncong_2021 = ['Beersheba Springs Assembly', 'Coalmont Elementary School', 'Community Action Committee', 'Epiphany Mission Episcopal Church',\n",
    "'Grundy Housing Authority', 'Monteagle Greene Apartments', 'Morton Memorial United Methodist Church',\n",
    "'North Elementary School', 'Palmer Elementary School', 'Pelham Elementary School ', 'Sewanee Community Center',\n",
    "'Swiss Memorial Elementary School ', 'Tracy City Elementary School', 'Christ Church Episcopal']\n",
    "\n",
    "people_counts1_2021 = people_counts1[(people_counts1['year'] == 2021) & (people_counts1['site_name'].isin(noncong_2021))]\n",
    "people_counts1_2021.shape"
   ]
  },
  {
   "cell_type": "code",
   "execution_count": null,
   "metadata": {
    "colab": {
     "base_uri": "https://localhost:8080/"
    },
    "id": "9qrfGdBXf2Lm",
    "outputId": "871d7709-a745-4207-9c29-e9e0e794c797"
   },
   "outputs": [],
   "source": [
    "people_2021 = drop_noncong_duplicates(people_counts1_2021)\n",
    "people_2021.shape"
   ]
  },
  {
   "cell_type": "code",
   "execution_count": null,
   "metadata": {
    "id": "8OmkgZIef6JN"
   },
   "outputs": [],
   "source": [
    "meal_numbers = ['ordered_meals', 'previous_day_meals',\n",
    "        'first_meals', 'second_meals', 'program_adult_meals',\n",
    "        'nonprogram_adult_meals', 'served_meals', 'damaged_meals',\n",
    "        'leftover_meals', 'unserved_people']\n",
    "\n",
    "divide_meals_by_5(people_2020, meal_numbers)\n",
    "divide_meals_by_5(people_2021, meal_numbers)"
   ]
  },
  {
   "cell_type": "code",
   "execution_count": null,
   "metadata": {
    "colab": {
     "base_uri": "https://localhost:8080/"
    },
    "id": "AOCJ4-KTgU3M",
    "outputId": "05e3cfe3-3559-437b-bd2e-caf871ab3217"
   },
   "outputs": [],
   "source": [
    "people_counts2 = people_counts1.drop(people_counts1[(people_counts1['year'] == 2020)].index)\n",
    "print(people_counts2.shape)\n",
    "print(years_shape(people_counts2, 'year'))"
   ]
  },
  {
   "cell_type": "code",
   "execution_count": null,
   "metadata": {
    "colab": {
     "base_uri": "https://localhost:8080/"
    },
    "id": "ue2Q0x5wgbqI",
    "outputId": "24ca2ba7-1e37-4326-9240-848e219ededf"
   },
   "outputs": [],
   "source": [
    "people_counts3 = people_counts2.drop(people_counts2[(people_counts2['year'] == 2021) & (people_counts2['site_name'].isin(noncong_2021))].index)\n",
    "print(people_counts3.shape)\n",
    "print(years_shape(people_counts3, 'year'))"
   ]
  },
  {
   "cell_type": "code",
   "execution_count": null,
   "metadata": {
    "colab": {
     "base_uri": "https://localhost:8080/"
    },
    "id": "Uc7m55jDgdmB",
    "outputId": "45520ef2-a557-4f12-a937-768862ea2ff0"
   },
   "outputs": [],
   "source": [
    "people_counts4 = pd.concat([people_counts3, people_2020], ignore_index=True)\n",
    "people_dataset = pd.concat([people_counts4, people_2021], ignore_index=True)\n",
    "print(people_dataset.shape)\n",
    "print(years_shape(people_dataset, 'year'))"
   ]
  },
  {
   "cell_type": "code",
   "execution_count": null,
   "metadata": {
    "id": "Tnjv34GPggOV"
   },
   "outputs": [],
   "source": [
    "# PLEASE BE AWARE THAT EVERYTHING MENTIONED HERE IS IN PEOPLE FROM NOW ON NOT MEALS, IGNORE THE VARIABLE NAMES BEING IN MEALS\n",
    "\n",
    "people_dataset['available_meals'] = people_dataset['ordered_meals'] + people_dataset['previous_day_meals']\n",
    "people_dataset['wasted_meals'] = people_dataset['damaged_meals'] + people_dataset['leftover_meals']"
   ]
  },
  {
   "cell_type": "code",
   "execution_count": null,
   "metadata": {
    "colab": {
     "base_uri": "https://localhost:8080/"
    },
    "id": "Ao88fSgVVb05",
    "outputId": "ea47b650-730d-4410-cfad-713be7cb536b"
   },
   "outputs": [],
   "source": [
    "people_dataset.isna().sum()"
   ]
  },
  {
   "cell_type": "code",
   "execution_count": null,
   "metadata": {
    "id": "Oi-OEMFcgn4k"
   },
   "outputs": [],
   "source": [
    "people_dataset1 = people_dataset.sort_values(['year', 'week_number'])\n",
    "week_id = people_dataset1[['year', 'week_number']].copy()\n",
    "week_id['week_serial_number'] = week_id.groupby(['year', 'week_number']).ngroup()\n",
    "week_id[['week_serial_number','week_number','year']]\n",
    "week_id.drop_duplicates(inplace=True)"
   ]
  },
  {
   "cell_type": "code",
   "execution_count": null,
   "metadata": {
    "colab": {
     "base_uri": "https://localhost:8080/"
    },
    "id": "C81OuUutVXGp",
    "outputId": "6dd9a4a0-9fbe-4887-8dcd-291c3b4230fe"
   },
   "outputs": [],
   "source": [
    "people_dataset1.isna().sum()"
   ]
  },
  {
   "cell_type": "code",
   "execution_count": null,
   "metadata": {
    "id": "TikgWQOngtnL"
   },
   "outputs": [],
   "source": [
    "meals_dataset1 = pd.merge(people_dataset1, week_id[['year', 'week_number', 'week_serial_number']], on=['year', 'week_number'])"
   ]
  },
  {
   "cell_type": "code",
   "execution_count": null,
   "metadata": {
    "colab": {
     "base_uri": "https://localhost:8080/"
    },
    "id": "MiPNTyfHgwfH",
    "outputId": "9578aa9e-9975-4f3c-e82f-29139a775b1c"
   },
   "outputs": [],
   "source": [
    "meals_dataset1.shape"
   ]
  },
  {
   "cell_type": "code",
   "execution_count": null,
   "metadata": {
    "colab": {
     "base_uri": "https://localhost:8080/"
    },
    "id": "v-Q82vRPVHFL",
    "outputId": "68d2ca16-b37e-4ab1-ce86-0bfac0ff4723"
   },
   "outputs": [],
   "source": [
    "meals_dataset1.isna().sum()"
   ]
  },
  {
   "cell_type": "code",
   "execution_count": null,
   "metadata": {
    "id": "Ah7wTJTOCq_H"
   },
   "outputs": [],
   "source": [
    "event['date'] = pd.to_datetime(event['date'], errors='coerce')\n",
    "event['week_number'] = event['date'].dt.isocalendar().week\n",
    "event['year'] = event['date'].dt.year"
   ]
  },
  {
   "cell_type": "code",
   "execution_count": null,
   "metadata": {
    "colab": {
     "base_uri": "https://localhost:8080/",
     "height": 206
    },
    "id": "UKR1Wm0IEocB",
    "outputId": "f6e50946-e1f0-4d54-97f4-318ac730c999"
   },
   "outputs": [],
   "source": [
    "event.head()"
   ]
  },
  {
   "cell_type": "code",
   "execution_count": null,
   "metadata": {
    "id": "xFce63jLC0_t"
   },
   "outputs": [],
   "source": [
    "meals_dataset2 = pd.merge(meals_dataset1, event[['year', 'week_number', 'event']], how='left', on=['year', 'week_number'])"
   ]
  },
  {
   "cell_type": "code",
   "execution_count": null,
   "metadata": {
    "colab": {
     "base_uri": "https://localhost:8080/"
    },
    "id": "lgTfai5mC_pq",
    "outputId": "c1fb1819-deeb-492a-b094-ae72eb2d4b9a"
   },
   "outputs": [],
   "source": [
    "meals_dataset2.shape"
   ]
  },
  {
   "cell_type": "code",
   "execution_count": null,
   "metadata": {
    "colab": {
     "base_uri": "https://localhost:8080/"
    },
    "id": "4NDw3S34VL-A",
    "outputId": "4e69685f-350b-42a7-f439-180e7ce2dcf9"
   },
   "outputs": [],
   "source": [
    "meals_dataset2.isna().sum()"
   ]
  },
  {
   "cell_type": "code",
   "execution_count": null,
   "metadata": {
    "colab": {
     "base_uri": "https://localhost:8080/"
    },
    "id": "fLeHVQPyDTVT",
    "outputId": "c33cf9a9-6041-4523-f179-a7c558d0ada1"
   },
   "outputs": [],
   "source": [
    "meals_dataset2['event'].fillna(0, inplace=True)\n",
    "meals_dataset2.isna().sum()"
   ]
  },
  {
   "cell_type": "code",
   "execution_count": null,
   "metadata": {
    "id": "FunhG0Pugysc"
   },
   "outputs": [],
   "source": [
    "weather['date'] = pd.to_datetime(weather['datetime (UTC)'], errors='coerce')\n",
    "weather['year'] = weather['date'].dt.year\n",
    "weather['week_number'] = weather['date'].dt.isocalendar().week"
   ]
  },
  {
   "cell_type": "code",
   "execution_count": null,
   "metadata": {
    "colab": {
     "base_uri": "https://localhost:8080/"
    },
    "id": "tCdokqGRtcr8",
    "outputId": "70f53082-8a03-40d6-ba0c-8643b842939a"
   },
   "outputs": [],
   "source": [
    "weather.columns"
   ]
  },
  {
   "cell_type": "code",
   "execution_count": null,
   "metadata": {
    "colab": {
     "base_uri": "https://localhost:8080/",
     "height": 424
    },
    "id": "9-_LBNj_g1o7",
    "outputId": "343b7c58-37f3-48dc-bd03-ebe9560ff15f"
   },
   "outputs": [],
   "source": [
    "weather_info = weather.groupby(['year', 'week_number'])[['temperature (degF)', 'total_precipitation (mm of water equivalent)', 'wind_speed (m/s)','humidex_index (degF)']].mean().reset_index()\n",
    "weather_info"
   ]
  },
  {
   "cell_type": "code",
   "execution_count": null,
   "metadata": {
    "colab": {
     "base_uri": "https://localhost:8080/",
     "height": 447
    },
    "id": "1Qg6dZtksXmI",
    "outputId": "fdf15b07-2e47-4934-d731-628ae93d8ef1"
   },
   "outputs": [],
   "source": [
    "sns.boxplot(weather_info['humidex_index (degF)'])"
   ]
  },
  {
   "cell_type": "code",
   "execution_count": null,
   "metadata": {
    "id": "rrAW57FbsFpo"
   },
   "outputs": [],
   "source": [
    "threshold_humidity = np.quantile(weather_info['humidex_index (degF)'], [0.25, 0.5, 0.75])\n",
    "threshold_temp= np.quantile(weather_info['temperature (degF)'], [0.25, 0.5, 0.75])\n",
    "threshold_prec = np.quantile(weather_info['total_precipitation (mm of water equivalent)'], [0.25, 0.5, 0.75])\n",
    "threshold_wind = np.quantile(weather_info['wind_speed (m/s)'], [0.25, 0.5, 0.75])\n",
    "\n",
    "weather_info['humidex_index (degF)1'] = weather_info['humidex_index (degF)'].apply(lambda x: 0 if x <  threshold_humidity[0]\n",
    "                                                                                  else (1 if (x <  threshold_humidity[1])\n",
    "                                                                                  else (2 if x <  threshold_humidity[2] else 3)))\n",
    "\n",
    "weather_info['temperature (degF)1'] = weather_info['temperature (degF)'].apply(lambda x: 0 if x <  threshold_temp[0]\n",
    "                                                                                  else (1 if (x <  threshold_temp[1])\n",
    "                                                                                  else (2 if x <  threshold_temp[2] else 3)))\n",
    "\n",
    "weather_info['total_precipitation (mm of water equivalent)1'] = weather_info['total_precipitation (mm of water equivalent)'].apply(lambda x: 0 if x <  threshold_prec[0]\n",
    "                                                                                  else (1 if (x <  threshold_prec[1])\n",
    "                                                                                  else (2 if x <  threshold_prec[2] else 3)))\n",
    "\n",
    "weather_info['wind_speed (m/s)1'] = weather_info['wind_speed (m/s)'].apply(lambda x: 0 if x <  threshold_wind[0]\n",
    "                                                                                  else (1 if (x <  threshold_wind[1])\n",
    "                                                                                  else (2 if x <  threshold_wind[2] else 3)))\n"
   ]
  },
  {
   "cell_type": "code",
   "execution_count": null,
   "metadata": {
    "id": "5IP7q0Wyg3sy"
   },
   "outputs": [],
   "source": [
    "weather_info.rename(columns={'temperature (degF)1': 'temperature', 'humidex_index (degF)1': 'humidity',\n",
    "                             'total_precipitation (mm of water equivalent)1': 'precipitation', 'wind_speed (m/s)1':'wind'}, inplace=True)"
   ]
  },
  {
   "cell_type": "code",
   "execution_count": null,
   "metadata": {
    "colab": {
     "base_uri": "https://localhost:8080/"
    },
    "id": "1KNy1vm1lWy_",
    "outputId": "24f783f6-f1ba-4132-da35-6cd0d8e7634d"
   },
   "outputs": [],
   "source": [
    "weather_info.drop(['temperature (degF)',\n",
    "       'total_precipitation (mm of water equivalent)', 'wind_speed (m/s)',\n",
    "       'humidex_index (degF)'], axis=1, inplace=True)\n",
    "weather_info.columns"
   ]
  },
  {
   "cell_type": "code",
   "execution_count": null,
   "metadata": {
    "colab": {
     "base_uri": "https://localhost:8080/"
    },
    "id": "T_sC0Q5pUrVx",
    "outputId": "a914e5a4-62bc-48f6-faeb-5e86f17a91d2"
   },
   "outputs": [],
   "source": [
    "meals_dataset2.isna().sum()"
   ]
  },
  {
   "cell_type": "code",
   "execution_count": null,
   "metadata": {
    "colab": {
     "base_uri": "https://localhost:8080/"
    },
    "id": "L15Jj6owUugP",
    "outputId": "368fbebe-bf59-4bef-d93d-d606bacded6b"
   },
   "outputs": [],
   "source": [
    "weather_info.shape"
   ]
  },
  {
   "cell_type": "code",
   "execution_count": null,
   "metadata": {
    "id": "f1zOdHLzg6Of"
   },
   "outputs": [],
   "source": [
    "dataset = pd.merge(meals_dataset2, weather_info, on=['year', 'week_number'])"
   ]
  },
  {
   "cell_type": "code",
   "execution_count": null,
   "metadata": {
    "colab": {
     "base_uri": "https://localhost:8080/"
    },
    "id": "gzXmvub6g9qn",
    "outputId": "d9873145-bb5b-4008-f676-2f35e3d8da2e"
   },
   "outputs": [],
   "source": [
    "print(dataset.shape)\n",
    "print(years_shape(dataset, 'year'))"
   ]
  },
  {
   "cell_type": "code",
   "execution_count": null,
   "metadata": {
    "colab": {
     "base_uri": "https://localhost:8080/",
     "height": 143
    },
    "id": "ykZdf7e5hJ2q",
    "outputId": "48d40492-8f25-4c3e-b577-1e231b66431b"
   },
   "outputs": [],
   "source": [
    "dataset[dataset['temperature'].isna()]"
   ]
  },
  {
   "cell_type": "code",
   "execution_count": null,
   "metadata": {
    "colab": {
     "base_uri": "https://localhost:8080/",
     "height": 1000
    },
    "id": "aTQOA08LocSb",
    "outputId": "c09be3e7-abcd-48cf-b4bf-7897328334d2"
   },
   "outputs": [],
   "source": [
    "dataset"
   ]
  },
  {
   "cell_type": "code",
   "execution_count": null,
   "metadata": {
    "colab": {
     "base_uri": "https://localhost:8080/",
     "height": 300
    },
    "id": "qsqwfBgtx7l8",
    "outputId": "bbedb1c3-b2f8-4c1d-ba4c-0a03a941cd7a"
   },
   "outputs": [],
   "source": [
    "dataset.groupby('year')['served_meals'].sum().reset_index()"
   ]
  },
  {
   "cell_type": "code",
   "execution_count": null,
   "metadata": {
    "colab": {
     "base_uri": "https://localhost:8080/"
    },
    "id": "Mn4Dz9zpeLnD",
    "outputId": "4b021002-8b87-400d-a07b-b62a9f8784f7"
   },
   "outputs": [],
   "source": [
    "dataset['region'].unique()"
   ]
  },
  {
   "cell_type": "code",
   "execution_count": null,
   "metadata": {
    "colab": {
     "base_uri": "https://localhost:8080/"
    },
    "id": "xkTLsH5OlYH4",
    "outputId": "55a81284-1578-49d5-f57c-6ba12f400543"
   },
   "outputs": [],
   "source": [
    "dataset.isna().sum()"
   ]
  },
  {
   "cell_type": "code",
   "execution_count": null,
   "metadata": {
    "colab": {
     "base_uri": "https://localhost:8080/"
    },
    "id": "jt2-sWDlRIPB",
    "outputId": "26e12004-79c2-4e94-bd86-4bde06fdf112"
   },
   "outputs": [],
   "source": [
    "dataset.columns"
   ]
  },
  {
   "cell_type": "code",
   "execution_count": null,
   "metadata": {
    "colab": {
     "base_uri": "https://localhost:8080/",
     "height": 143
    },
    "id": "zq1lAXjaRVQY",
    "outputId": "a3361033-2a03-4db8-dd6a-68590fd939e2"
   },
   "outputs": [],
   "source": [
    "dataset[dataset['meal_type'] == np.nan]"
   ]
  },
  {
   "cell_type": "code",
   "execution_count": null,
   "metadata": {
    "colab": {
     "base_uri": "https://localhost:8080/"
    },
    "id": "zTLX-vGZWa6x",
    "outputId": "3615ccf0-93c0-4971-d445-c56a9179f285"
   },
   "outputs": [],
   "source": [
    "dataset.groupby(['week_number'])['served_meals'].sum()"
   ]
  }
 ],
 "metadata": {
  "colab": {
   "provenance": []
  },
  "kernelspec": {
   "display_name": "Python 3 (ipykernel)",
   "language": "python",
   "name": "python3"
  },
  "language_info": {
   "codemirror_mode": {
    "name": "ipython",
    "version": 3
   },
   "file_extension": ".py",
   "mimetype": "text/x-python",
   "name": "python",
   "nbconvert_exporter": "python",
   "pygments_lexer": "ipython3",
   "version": "3.9.13"
  }
 },
 "nbformat": 4,
 "nbformat_minor": 1
}
