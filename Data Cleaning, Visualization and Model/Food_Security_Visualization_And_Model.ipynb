{
 "cells": [
  {
   "cell_type": "markdown",
   "metadata": {
    "id": "OMkpIdCR4URJ"
   },
   "source": [
    "# **Food Security - Model Development**"
   ]
  },
  {
   "cell_type": "markdown",
   "metadata": {
    "id": "-gb8v9vvKEOt"
   },
   "source": [
    "## **Importing Cleaned Dataset**"
   ]
  },
  {
   "cell_type": "code",
   "execution_count": null,
   "metadata": {
    "colab": {
     "base_uri": "https://localhost:8080/"
    },
    "id": "KlraUch6KKjo",
    "outputId": "d47e6bd2-ab5e-4ff9-f657-e01db7cd4776"
   },
   "outputs": [],
   "source": [
    "from google.colab import drive\n",
    "drive.mount('/content/drive')\n",
    "\n",
    "import pandas as pd\n",
    "import numpy as np\n",
    "import seaborn as sns\n",
    "import matplotlib.pyplot as plt"
   ]
  },
  {
   "cell_type": "code",
   "execution_count": null,
   "metadata": {
    "colab": {
     "base_uri": "https://localhost:8080/",
     "height": 1000
    },
    "id": "fvf8scJJKUWN",
    "outputId": "e3f3d7b7-f279-400a-c741-28a7d371e1ef"
   },
   "outputs": [],
   "source": [
    "# This line of code is reading the data cleaning code first and anticipates that the file exists on the mentioned path\n",
    "%run '/content/drive/MyDrive/Colab Notebooks/name_of_data_cleaning_file.ipynb'"
   ]
  },
  {
   "cell_type": "markdown",
   "metadata": {
    "id": "tuuuCz5VI-zj"
   },
   "source": [
    "# **Data Visualizations**"
   ]
  },
  {
   "cell_type": "code",
   "execution_count": null,
   "metadata": {
    "colab": {
     "base_uri": "https://localhost:8080/"
    },
    "id": "ft1JwUrkJDHb",
    "outputId": "945b6061-bf39-4f03-f0ff-8f7e11ac7e73"
   },
   "outputs": [],
   "source": [
    "dataset.columns"
   ]
  },
  {
   "cell_type": "code",
   "execution_count": null,
   "metadata": {
    "id": "_Oc86somLgh7"
   },
   "outputs": [],
   "source": [
    "import plotly.graph_objects as go\n",
    "from plotly.subplots import make_subplots"
   ]
  },
  {
   "cell_type": "code",
   "execution_count": null,
   "metadata": {
    "colab": {
     "base_uri": "https://localhost:8080/",
     "height": 1000
    },
    "id": "i_ikMHe0KpLX",
    "outputId": "dcf66c41-b621-4a5c-ecae-0cb5efbe4de8"
   },
   "outputs": [],
   "source": [
    "from sklearn.metrics._plot.confusion_matrix import ConfusionMatrixDisplay\n",
    "\n",
    "grouped_data = dataset.groupby(['year', 'day_of_week'])['served_meals'].sum().reset_index()\n",
    "\n",
    "years = dataset['year'].unique()\n",
    "num_years = len(years)\n",
    "fig = make_subplots(rows=num_years, cols=1, shared_xaxes=True, subplot_titles=[str(year) for year in years])\n",
    "\n",
    "for i, year in enumerate(years):\n",
    "    data_year = grouped_data[grouped_data['year'] == year]\n",
    "    fig.add_trace(\n",
    "        go.Bar(x=data_year['day_of_week'], y=data_year['served_meals']),\n",
    "        row=i+1, col=1\n",
    "    )\n",
    "\n",
    "fig.update_layout(\n",
    "    title=\"Served Meals Throughout the Week for Each Year\",\n",
    "    xaxis=dict(title=\"Day of Week\"),\n",
    "    yaxis=dict(title=\"Served Meals\"),\n",
    "    height=1000,\n",
    ")\n",
    "\n",
    "fig.show()\n",
    "\n",
    "# DataScience Fellows in DataLab:\n",
    "# Eden Alem - Computer Science Major | Pronouns: She/Her\n",
    "# Orion Gant - Math Major; Minor in Music, German and Women & Gender Studies | Pronouns: She/Her\n",
    "# Carson Coody - Economics Major; Minor Business and Computer Science | Pronouns: He/Him\n",
    "# Bryce Comer - Computer Science Major | Pronouns: He/Him\n",
    "\n"
   ]
  },
  {
   "cell_type": "code",
   "execution_count": null,
   "metadata": {
    "colab": {
     "base_uri": "https://localhost:8080/",
     "height": 1000
    },
    "id": "AGHe4gDs4UuJ",
    "outputId": "2b50757a-a332-4c71-e99a-2394f9359b8b"
   },
   "outputs": [],
   "source": [
    "from sklearn.metrics._plot.confusion_matrix import ConfusionMatrixDisplay\n",
    "\n",
    "cong_years =  [2016, 2017, 2018, 2019, 2022]\n",
    "grouped_data = dataset[dataset['year'].isin(cong_years)].groupby(['year', 'day_of_week'])['served_meals'].sum().reset_index()\n",
    "\n",
    "num_years = len(cong_years)\n",
    "fig = make_subplots(rows=num_years, cols=1, shared_xaxes=True, subplot_titles=[str(year) for year in cong_years])\n",
    "\n",
    "for i, year in enumerate(cong_years):\n",
    "    data_year = grouped_data[grouped_data['year'] == year]\n",
    "    fig.add_trace(\n",
    "        go.Bar(x=data_year['day_of_week'], y=data_year['served_meals']),\n",
    "        row=i+1, col=1\n",
    "    )\n",
    "\n",
    "fig.update_layout(\n",
    "    title=\"Served Meals Throughout the Week for Each Congregate Year\",\n",
    "    xaxis=dict(title=\"Day of Week\"),\n",
    "    yaxis=dict(title=\"Served Meals\"),\n",
    "    height=1000,\n",
    ")\n",
    "\n",
    "fig.show()\n"
   ]
  },
  {
   "cell_type": "code",
   "execution_count": null,
   "metadata": {
    "colab": {
     "base_uri": "https://localhost:8080/",
     "height": 1000
    },
    "id": "m5k0cu1w44Ri",
    "outputId": "24f2f7b4-3dee-411f-b648-4637ae89ab8e"
   },
   "outputs": [],
   "source": [
    "from sklearn.metrics._plot.confusion_matrix import ConfusionMatrixDisplay\n",
    "\n",
    "noncong_years = [2020, 2021, 2023]\n",
    "grouped_data = dataset[dataset['year'].isin(noncong_years)].groupby(['year', 'day_of_week'])['served_meals'].sum().reset_index()\n",
    "\n",
    "num_years = len(noncong_years)\n",
    "fig = make_subplots(rows=num_years, cols=1, shared_xaxes=True, subplot_titles=[str(year) for year in noncong_years])\n",
    "\n",
    "for i, year in enumerate(noncong_years):\n",
    "    data_year = grouped_data[grouped_data['year'] == year]\n",
    "    fig.add_trace(\n",
    "        go.Bar(x=data_year['day_of_week'], y=data_year['served_meals']),\n",
    "        row=i+1, col=1\n",
    "    )\n",
    "\n",
    "fig.update_layout(\n",
    "    title=\"Served Meals Throughout the Week for Each Non Congregate Year\",\n",
    "    xaxis=dict(title=\"Day of Week\"),\n",
    "    yaxis=dict(title=\"Served Meals\"),\n",
    "    height=1000,\n",
    ")\n",
    "\n",
    "fig.show()\n"
   ]
  },
  {
   "cell_type": "code",
   "execution_count": null,
   "metadata": {
    "colab": {
     "base_uri": "https://localhost:8080/",
     "height": 1000
    },
    "id": "j-hdHmMNjDFK",
    "outputId": "87b7357d-5d7b-419d-8348-7976914a054f"
   },
   "outputs": [],
   "source": [
    "from sklearn.metrics._plot.confusion_matrix import ConfusionMatrixDisplay\n",
    "\n",
    "grouped_data = dataset.groupby(['year', 'day_of_week'])['wasted_meals'].sum().reset_index()\n",
    "\n",
    "years = dataset['year'].unique()\n",
    "num_years = len(years)\n",
    "fig = make_subplots(rows=num_years, cols=1, shared_xaxes=True, subplot_titles=[str(year) for year in years])\n",
    "\n",
    "for i, year in enumerate(years):\n",
    "    data_year = grouped_data[grouped_data['year'] == year]\n",
    "    fig.add_trace(\n",
    "        go.Bar(x=data_year['day_of_week'], y=data_year['wasted_meals']),\n",
    "        row=i+1, col=1\n",
    "    )\n",
    "\n",
    "fig.update_layout(\n",
    "    title=\"Wasted Meals Throughout the Week for Each Year\",\n",
    "    xaxis=dict(title=\"Day of Week\"),\n",
    "    yaxis=dict(title=\"Wasted Meals\"),\n",
    "    height=1000,\n",
    ")\n",
    "\n",
    "fig.show()\n"
   ]
  },
  {
   "cell_type": "code",
   "execution_count": null,
   "metadata": {
    "colab": {
     "base_uri": "https://localhost:8080/",
     "height": 1000
    },
    "id": "nhgu4Keo7LnF",
    "outputId": "18816512-5123-4742-a121-a023933ec27f"
   },
   "outputs": [],
   "source": [
    "from sklearn.metrics._plot.confusion_matrix import ConfusionMatrixDisplay\n",
    "\n",
    "cong_years =  [2016, 2017, 2018, 2019, 2022]\n",
    "grouped_data = dataset[dataset['year'].isin(cong_years)].groupby(['year', 'day_of_week'])['wasted_meals'].sum().reset_index()\n",
    "\n",
    "num_years = len(cong_years)\n",
    "fig = make_subplots(rows=num_years, cols=1, shared_xaxes=True, subplot_titles=[str(year) for year in cong_years])\n",
    "\n",
    "for i, year in enumerate(cong_years):\n",
    "    data_year = grouped_data[grouped_data['year'] == year]\n",
    "    fig.add_trace(\n",
    "        go.Bar(x=data_year['day_of_week'], y=data_year['wasted_meals']),\n",
    "        row=i+1, col=1\n",
    "    )\n",
    "\n",
    "fig.update_layout(\n",
    "    title=\"Wasted Meals Throughout the Week for Each Congregate Year\",\n",
    "    xaxis=dict(title=\"Day of Week\"),\n",
    "    yaxis=dict(title=\"Wasted Meals\"),\n",
    "    height=1000,\n",
    ")\n",
    "\n",
    "fig.show()\n"
   ]
  },
  {
   "cell_type": "code",
   "execution_count": null,
   "metadata": {
    "colab": {
     "base_uri": "https://localhost:8080/",
     "height": 1000
    },
    "id": "OEVJ7i-r7czk",
    "outputId": "3ba4a6dc-bffe-408c-a265-25605da21294"
   },
   "outputs": [],
   "source": [
    "from sklearn.metrics._plot.confusion_matrix import ConfusionMatrixDisplay\n",
    "\n",
    "noncong_years = [2020, 2021, 2023]\n",
    "grouped_data = dataset[dataset['year'].isin(noncong_years)].groupby(['year', 'day_of_week'])['wasted_meals'].sum().reset_index()\n",
    "\n",
    "num_years = len(noncong_years)\n",
    "fig = make_subplots(rows=num_years, cols=1, shared_xaxes=True, subplot_titles=[str(year) for year in noncong_years])\n",
    "\n",
    "for i, year in enumerate(noncong_years):\n",
    "    data_year = grouped_data[grouped_data['year'] == year]\n",
    "    fig.add_trace(\n",
    "        go.Bar(x=data_year['day_of_week'], y=data_year['wasted_meals']),\n",
    "        row=i+1, col=1\n",
    "    )\n",
    "\n",
    "fig.update_layout(\n",
    "    title=\"Wasted Meals Throughout the Week for Each Non Congregate Year\",\n",
    "    xaxis=dict(title=\"Day of Week\"),\n",
    "    yaxis=dict(title=\"Wasted Meals\"),\n",
    "    height=1000,\n",
    ")\n",
    "\n",
    "fig.show()\n"
   ]
  },
  {
   "cell_type": "code",
   "execution_count": null,
   "metadata": {
    "colab": {
     "base_uri": "https://localhost:8080/",
     "height": 1000
    },
    "id": "LNqLhFQEkDJ3",
    "outputId": "2119ebae-1a36-447c-f5ff-0fb643d45666"
   },
   "outputs": [],
   "source": [
    "from sklearn.metrics._plot.confusion_matrix import ConfusionMatrixDisplay\n",
    "\n",
    "grouped_data = dataset.groupby(['year', 'week_number'])['served_meals'].sum().reset_index()\n",
    "\n",
    "years = dataset['year'].unique()\n",
    "num_years = len(years)\n",
    "fig = make_subplots(rows=num_years, cols=1, shared_xaxes=True, subplot_titles=[str(year) for year in years])\n",
    "\n",
    "for i, year in enumerate(years):\n",
    "    data_year = grouped_data[grouped_data['year'] == year]\n",
    "    fig.add_trace(\n",
    "        go.Bar(x=data_year['week_number'], y=data_year['served_meals']),\n",
    "        row=i+1, col=1\n",
    "    )\n",
    "\n",
    "fig.update_layout(\n",
    "    title=\"Served Meals Throughout the Weeks for Each Year\",\n",
    "    xaxis=dict(title=\"Week Operation\"),\n",
    "    yaxis=dict(title=\"Served Meals\"),\n",
    "    height=1000,\n",
    ")\n",
    "\n",
    "fig.show()\n"
   ]
  },
  {
   "cell_type": "code",
   "execution_count": null,
   "metadata": {
    "colab": {
     "base_uri": "https://localhost:8080/",
     "height": 1000
    },
    "id": "MoTcnWP79l2Z",
    "outputId": "b827a216-5cda-4b11-e257-feb79521f6a6"
   },
   "outputs": [],
   "source": [
    "from sklearn.metrics._plot.confusion_matrix import ConfusionMatrixDisplay\n",
    "\n",
    "cong_years =  [2016, 2017, 2018, 2019, 2022]\n",
    "grouped_data = dataset[dataset['year'].isin(cong_years)].groupby(['year', 'week_number'])['served_meals'].sum().reset_index()\n",
    "\n",
    "num_years = len(cong_years)\n",
    "fig = make_subplots(rows=num_years, cols=1, shared_xaxes=True, subplot_titles=[str(year) for year in cong_years])\n",
    "\n",
    "for i, year in enumerate(cong_years):\n",
    "    data_year = grouped_data[grouped_data['year'] == year]\n",
    "    fig.add_trace(\n",
    "        go.Bar(x=data_year['week_number'], y=data_year['served_meals']),\n",
    "        row=i+1, col=1\n",
    "    )\n",
    "\n",
    "fig.update_layout(\n",
    "    title=\"Served Meals Throughout the Weeks for Each Congregate Year\",\n",
    "    xaxis=dict(title=\"Week Operation\"),\n",
    "    yaxis=dict(title=\"Served Meals\"),\n",
    "    height=1000,\n",
    ")\n",
    "\n",
    "fig.show()\n"
   ]
  },
  {
   "cell_type": "code",
   "execution_count": null,
   "metadata": {
    "colab": {
     "base_uri": "https://localhost:8080/",
     "height": 1000
    },
    "id": "zMsm0MDo-sbr",
    "outputId": "8a4efaf1-4335-407a-836c-aa3d5c13718a"
   },
   "outputs": [],
   "source": [
    "from sklearn.metrics._plot.confusion_matrix import ConfusionMatrixDisplay\n",
    "\n",
    "noncong_years =  [2020, 2021, 2023]\n",
    "grouped_data = dataset[dataset['year'].isin(noncong_years)].groupby(['year', 'week_number'])['served_meals'].sum().reset_index()\n",
    "\n",
    "num_years = len(noncong_years)\n",
    "fig = make_subplots(rows=num_years, cols=1, shared_xaxes=True, subplot_titles=[str(year) for year in noncong_years])\n",
    "\n",
    "for i, year in enumerate(noncong_years):\n",
    "    data_year = grouped_data[grouped_data['year'] == year]\n",
    "    fig.add_trace(\n",
    "        go.Bar(x=data_year['week_number'], y=data_year['served_meals']),\n",
    "        row=i+1, col=1\n",
    "    )\n",
    "\n",
    "fig.update_layout(\n",
    "    title=\"Served Meals Throughout the Weeks for Each Non Congregate Year\",\n",
    "    xaxis=dict(title=\"Week Operation\"),\n",
    "    yaxis=dict(title=\"Served Meals\"),\n",
    "    height=1000,\n",
    ")\n",
    "\n",
    "fig.show()\n"
   ]
  },
  {
   "cell_type": "code",
   "execution_count": null,
   "metadata": {
    "colab": {
     "base_uri": "https://localhost:8080/",
     "height": 1000
    },
    "id": "TLvBQIS9kcCd",
    "outputId": "cd012fb9-38f8-4cf4-c692-66599e2c8b0b"
   },
   "outputs": [],
   "source": [
    "from sklearn.metrics._plot.confusion_matrix import ConfusionMatrixDisplay\n",
    "\n",
    "grouped_data = dataset.groupby(['year', 'week_number'])['wasted_meals'].sum().reset_index()\n",
    "\n",
    "years = dataset['year'].unique()\n",
    "num_years = len(years)\n",
    "fig = make_subplots(rows=num_years, cols=1, shared_xaxes=True, subplot_titles=[str(year) for year in years])\n",
    "\n",
    "for i, year in enumerate(years):\n",
    "    data_year = grouped_data[grouped_data['year'] == year]\n",
    "    fig.add_trace(\n",
    "        go.Bar(x=data_year['week_number'], y=data_year['wasted_meals']),\n",
    "        row=i+1, col=1\n",
    "    )\n",
    "\n",
    "fig.update_layout(\n",
    "    title=\"Wasted Meals Throughout the Weeks for Each Year\",\n",
    "    xaxis=dict(title=\"Week Operation\"),\n",
    "    yaxis=dict(title=\"Wasted Meals\"),\n",
    "    height=1000,\n",
    ")\n",
    "\n",
    "fig.show()\n"
   ]
  },
  {
   "cell_type": "code",
   "execution_count": null,
   "metadata": {
    "colab": {
     "base_uri": "https://localhost:8080/",
     "height": 1000
    },
    "id": "uuKW6O1E_Ix_",
    "outputId": "4389a93d-7769-4678-9e89-1650050b9caf"
   },
   "outputs": [],
   "source": [
    "from sklearn.metrics._plot.confusion_matrix import ConfusionMatrixDisplay\n",
    "\n",
    "cong_years =  [2016, 2017, 2018, 2019, 2022]\n",
    "grouped_data = dataset[dataset['year'].isin(cong_years)].groupby(['year', 'week_number'])['wasted_meals'].sum().reset_index()\n",
    "\n",
    "num_years = len(cong_years)\n",
    "fig = make_subplots(rows=num_years, cols=1, shared_xaxes=True, subplot_titles=[str(year) for year in cong_years])\n",
    "\n",
    "for i, year in enumerate(cong_years):\n",
    "    data_year = grouped_data[grouped_data['year'] == year]\n",
    "    fig.add_trace(\n",
    "        go.Bar(x=data_year['week_number'], y=data_year['wasted_meals']),\n",
    "        row=i+1, col=1\n",
    "    )\n",
    "\n",
    "fig.update_layout(\n",
    "    title=\"Wasted Meals Throughout the Weeks for Each Congregate Year\",\n",
    "    xaxis=dict(title=\"Week Operation\"),\n",
    "    yaxis=dict(title=\"Wasted Meals\"),\n",
    "    height=1000,\n",
    ")\n",
    "\n",
    "fig.show()\n"
   ]
  },
  {
   "cell_type": "code",
   "execution_count": null,
   "metadata": {
    "colab": {
     "base_uri": "https://localhost:8080/",
     "height": 1000
    },
    "id": "XTFy8KU6_Skl",
    "outputId": "5c8d1fdc-684a-4be4-8669-a8ea46cd0c56"
   },
   "outputs": [],
   "source": [
    "from sklearn.metrics._plot.confusion_matrix import ConfusionMatrixDisplay\n",
    "\n",
    "noncong_years =  [2020, 2021, 2023]\n",
    "grouped_data = dataset[dataset['year'].isin(noncong_years)].groupby(['year', 'week_number'])['wasted_meals'].sum().reset_index()\n",
    "\n",
    "num_years = len(noncong_years)\n",
    "fig = make_subplots(rows=num_years, cols=1, shared_xaxes=True, subplot_titles=[str(year) for year in noncong_years])\n",
    "\n",
    "for i, year in enumerate(noncong_years):\n",
    "    data_year = grouped_data[grouped_data['year'] == year]\n",
    "    fig.add_trace(\n",
    "        go.Bar(x=data_year['week_number'], y=data_year['wasted_meals']),\n",
    "        row=i+1, col=1\n",
    "    )\n",
    "\n",
    "fig.update_layout(\n",
    "    title=\"Wasted Meals Throughout the Weeks for Each Non Congregate Year\",\n",
    "    xaxis=dict(title=\"Week Operation\"),\n",
    "    yaxis=dict(title=\"Wasted Meals\"),\n",
    "    height=1000,\n",
    ")\n",
    "\n",
    "fig.show()\n"
   ]
  },
  {
   "cell_type": "code",
   "execution_count": null,
   "metadata": {
    "id": "2Mer9mmjLQvr"
   },
   "outputs": [],
   "source": []
  },
  {
   "cell_type": "markdown",
   "metadata": {
    "id": "yph4lVzAQxgd"
   },
   "source": [
    "# **Feature Engineering**"
   ]
  },
  {
   "cell_type": "code",
   "execution_count": null,
   "metadata": {
    "colab": {
     "base_uri": "https://localhost:8080/"
    },
    "id": "yJbPUTVL_uu9",
    "outputId": "acd3f693-5fe9-4358-9732-cc0ac276f7ea"
   },
   "outputs": [],
   "source": [
    "dataset.columns"
   ]
  },
  {
   "cell_type": "code",
   "execution_count": null,
   "metadata": {
    "colab": {
     "base_uri": "https://localhost:8080/",
     "height": 206
    },
    "id": "eFsuawbAWRDP",
    "outputId": "20074e98-9e8e-4b11-e790-7fdb7dbb30f6"
   },
   "outputs": [],
   "source": [
    "data = dataset.groupby('region')['served_meals'].sum().reset_index()\n",
    "data.head()"
   ]
  },
  {
   "cell_type": "code",
   "execution_count": null,
   "metadata": {
    "colab": {
     "base_uri": "https://localhost:8080/"
    },
    "id": "r4CJw-ozWZso",
    "outputId": "fd199baa-5e7a-4ee6-f839-7248d8883d7b"
   },
   "outputs": [],
   "source": [
    "total_meals = dataset['served_meals'].sum()\n",
    "region_meals = dataset.groupby('region')['served_meals'].sum()\n",
    "percent_dist = (region_meals / total_meals) * 100\n",
    "percent_dist.reset_index()\n",
    "\n",
    "for v in  zip(percent_dist.index, percent_dist):\n",
    "  print(v)"
   ]
  },
  {
   "cell_type": "code",
   "execution_count": null,
   "metadata": {
    "colab": {
     "base_uri": "https://localhost:8080/"
    },
    "id": "UoH3vaY-_uvB",
    "outputId": "1f7866e9-e102-4efe-bc5e-8c01676a2799"
   },
   "outputs": [],
   "source": [
    "df1 = dataset.groupby(['week_serial_number', 'region']).nunique()['day_of_week'].reset_index(name='number_of_days_operated')\n",
    "df2 = df1.groupby('week_serial_number').sum()['number_of_days_operated']"
   ]
  },
  {
   "cell_type": "code",
   "execution_count": null,
   "metadata": {
    "id": "ruds3ySI_uvE"
   },
   "outputs": [],
   "source": [
    "regions_data = dataset.groupby(['week_serial_number']).nunique()['region'].reset_index(name='number_of_regions')\n",
    "sites_data = dataset.groupby(['week_serial_number']).nunique()['site_name'].reset_index(name='number_of_sites')"
   ]
  },
  {
   "cell_type": "code",
   "execution_count": null,
   "metadata": {
    "id": "DwgOJIVa_uvG"
   },
   "outputs": [],
   "source": [
    "temp = pd.merge(dataset, regions_data, on=['week_serial_number'])\n",
    "df3 = pd.merge(temp, sites_data, on=['week_serial_number'])"
   ]
  },
  {
   "cell_type": "code",
   "execution_count": null,
   "metadata": {
    "id": "Dj3J97yQ_uvH"
   },
   "outputs": [],
   "source": [
    "df4=df3[['ordered_meals',\n",
    "       'previous_day_meals', 'first_meals', 'second_meals',\n",
    "       'program_adult_meals', 'nonprogram_adult_meals', 'served_meals',\n",
    "       'damaged_meals', 'leftover_meals','unserved_people','region', 'available_meals', 'wasted_meals',\n",
    "       'week_serial_number', 'temperature', 'wind',\n",
    "       'humidity', 'precipitation', 'number_of_regions',\n",
    "       'number_of_sites', 'year', 'event', 'size']]"
   ]
  },
  {
   "cell_type": "code",
   "execution_count": null,
   "metadata": {
    "colab": {
     "base_uri": "https://localhost:8080/"
    },
    "id": "CwqU-ECh_uvI",
    "outputId": "c2ccb75a-f542-4a8d-bf7d-7832b9a69a49"
   },
   "outputs": [],
   "source": [
    "df4['unserved_people'].fillna(0, inplace=True)"
   ]
  },
  {
   "cell_type": "code",
   "execution_count": null,
   "metadata": {
    "colab": {
     "base_uri": "https://localhost:8080/"
    },
    "id": "uABeW-CM_uvJ",
    "outputId": "71fa8fca-7f3a-4cca-dc1f-f162846ddbdf"
   },
   "outputs": [],
   "source": [
    "df4['meals_needed'] = df4['served_meals'] + df4['unserved_people']"
   ]
  },
  {
   "cell_type": "code",
   "execution_count": null,
   "metadata": {
    "colab": {
     "base_uri": "https://localhost:8080/"
    },
    "id": "0RzdWueP_uvK",
    "outputId": "5ed7583a-3652-4e57-c2ec-a62292b8ec93"
   },
   "outputs": [],
   "source": [
    "df4.shape"
   ]
  },
  {
   "cell_type": "code",
   "execution_count": null,
   "metadata": {
    "colab": {
     "base_uri": "https://localhost:8080/"
    },
    "id": "CGz3zt56_uvM",
    "outputId": "884458e4-0a33-4df9-b2d6-5f86ac3ebb4b"
   },
   "outputs": [],
   "source": [
    "df4.columns"
   ]
  },
  {
   "cell_type": "code",
   "execution_count": null,
   "metadata": {
    "colab": {
     "base_uri": "https://localhost:8080/",
     "height": 508
    },
    "id": "2CCxbYN__uvO",
    "outputId": "20e80a67-ecb2-42db-ddd0-e6ea1fab497e"
   },
   "outputs": [],
   "source": [
    "df4.fillna(0, inplace=True)\n",
    "df6 = pd.get_dummies(data=df4, columns=['region'])\n",
    "\n",
    "md1 = df6.groupby('week_serial_number')['meals_needed', 'event', 'size'].agg({'meals_needed': 'sum', 'event': 'sum', 'size': lambda x: x.unique().sum()}).reset_index()\n",
    "\n",
    "binary_columns = ['event']\n",
    "for col in binary_columns:\n",
    "  md1.loc[md1[col] >= 1, col] = 1\n",
    "\n",
    "md2 = df6.groupby('week_serial_number')[['number_of_regions', 'number_of_sites', 'year', 'temperature', 'humidity', 'precipitation', 'wind']].mean()\n",
    "\n",
    "md2['week_order'] = md2.groupby(['year']).cumcount() + 1\n",
    "\n",
    "md3=df6.drop(['meals_needed','temperature', 'humidity', 'precipitation', 'wind',\n",
    "                   'number_of_regions', 'number_of_sites', 'year', 'event', 'size'], axis=1)\n",
    "md4=md3.groupby('week_serial_number').sum().reset_index()\n",
    "\n",
    "temp=pd.merge(md1,md2, on='week_serial_number')\n",
    "df7=pd.merge(temp,md4, on='week_serial_number')\n",
    "df7.head()"
   ]
  },
  {
   "cell_type": "code",
   "execution_count": null,
   "metadata": {
    "id": "EQLBJh6x_uvQ"
   },
   "outputs": [],
   "source": [
    "df = pd.merge(df7, df2, on=['week_serial_number'])"
   ]
  },
  {
   "cell_type": "code",
   "execution_count": null,
   "metadata": {
    "colab": {
     "base_uri": "https://localhost:8080/"
    },
    "id": "FunPJH2V_uvV",
    "outputId": "2b80626c-cf51-42fc-ca15-5000d63be9f2"
   },
   "outputs": [],
   "source": [
    "df.shape"
   ]
  },
  {
   "cell_type": "code",
   "execution_count": null,
   "metadata": {
    "colab": {
     "base_uri": "https://localhost:8080/",
     "height": 317
    },
    "id": "oJwq1uMf_uvW",
    "outputId": "68acf0d1-0ade-4260-f373-663e2d195edb"
   },
   "outputs": [],
   "source": [
    "df.head()"
   ]
  },
  {
   "cell_type": "code",
   "execution_count": null,
   "metadata": {
    "id": "uiiDbF0o_uvX"
   },
   "outputs": [],
   "source": [
    "df['meals_needed_2weeks_prior'] = df[['meals_needed']].shift(2)\n",
    "df['meals_available_2weeks_prior'] = df[['available_meals']].shift(2)\n",
    "df['meals_served_2weeks_prior'] = df[['served_meals']].shift(2)\n",
    "df['people_unserved_2weeks_prior'] = df[['unserved_people']].shift(2)\n",
    "# df['meals_wasted_2weeks_prior'] = df[['wasted_meals']].shift(2)\n",
    "\n",
    "df['meals_needed_2weeks_prior'].fillna(df['meals_needed_2weeks_prior'].mean(), inplace=True)\n",
    "df['meals_available_2weeks_prior'].fillna(df['meals_available_2weeks_prior'].mean(), inplace=True)\n",
    "df['meals_served_2weeks_prior'].fillna(df['meals_served_2weeks_prior'].mean(), inplace=True)\n",
    "df['people_unserved_2weeks_prior'].fillna(df['people_unserved_2weeks_prior'].mean(), inplace=True)\n",
    "# df['meals_wasted_2weeks_prior'].fillna(df['meals_wasted_2weeks_prior'].mean(), inplace=True)"
   ]
  },
  {
   "cell_type": "code",
   "execution_count": null,
   "metadata": {
    "id": "ycizp45w6vbg"
   },
   "outputs": [],
   "source": [
    "df['prev_year_meals_needed_this_week'] = df.groupby('week_order')['meals_needed'].shift()\n",
    "df['prev_year_meals_needed_this_week'].fillna(df['prev_year_meals_needed_this_week'].mean(), inplace=True)\n",
    "\n",
    "# df['prev_year_meals_available_this_week'] = df.groupby('week_order')['available_meals'].shift()\n",
    "# df['prev_year_meals_available_this_week'].fillna(df.groupby('week_order')['available_meals'].mean(), inplace=True)\n",
    "\n",
    "# df['prev_year_meals_served_this_week'] = df.groupby('week_order')['served_meals'].shift()\n",
    "# df['prev_year_meals_served_this_week'].fillna(df.groupby('week_order')['served_meals'].mean(), inplace=True)\n",
    "\n",
    "# df['prev_year_people_unserved_this_week'] = df.groupby('week_order')['unserved_people'].shift()\n",
    "# df['prev_year_people_unserved_this_week'].fillna(df.groupby('week_order')['unserved_people'].mean(), inplace=True)\n",
    "\n",
    "# df['prev_year_meals_wasted_this_week'] = df.groupby('week_order')['wasted_meals'].shift()\n",
    "# df['prev_year_meals_wasted_this_week'].fillna(df.groupby('week_order')['wasted_meals'].mean(), inplace=True)"
   ]
  },
  {
   "cell_type": "code",
   "execution_count": null,
   "metadata": {
    "colab": {
     "base_uri": "https://localhost:8080/",
     "height": 505
    },
    "id": "BtgZsHe1_uva",
    "outputId": "0c2e1cea-aaf6-4251-cc5a-f99a23ccbae6"
   },
   "outputs": [],
   "source": [
    "# df.tail(10)\n",
    "# df = df[:59]\n",
    "# df.shape\n",
    "df\n",
    "#weather forecasts 2 weeks ahead\n",
    "#number of sites\n",
    "#ordered meals"
   ]
  },
  {
   "cell_type": "markdown",
   "metadata": {
    "id": "hg8X3NnFnzMw"
   },
   "source": [
    "## **Prepping Data for Prediction**"
   ]
  },
  {
   "cell_type": "code",
   "execution_count": null,
   "metadata": {
    "id": "FH6cw48K_uvb"
   },
   "outputs": [],
   "source": [
    "from xgboost import XGBRegressor\n",
    "from sklearn.ensemble import GradientBoostingRegressor\n",
    "from sklearn.ensemble import RandomForestRegressor\n",
    "from sklearn.metrics import mean_squared_error, mean_absolute_error"
   ]
  },
  {
   "cell_type": "code",
   "execution_count": null,
   "metadata": {
    "colab": {
     "base_uri": "https://localhost:8080/",
     "height": 317
    },
    "id": "UvoSqVUS6NKs",
    "outputId": "a2a38aa4-f857-4783-bff5-61b955891976"
   },
   "outputs": [],
   "source": [
    "df.head()"
   ]
  },
  {
   "cell_type": "code",
   "execution_count": null,
   "metadata": {
    "colab": {
     "base_uri": "https://localhost:8080/"
    },
    "id": "qEMLYRz1_uvd",
    "outputId": "b321bb87-90d4-4443-c165-55e379ced314"
   },
   "outputs": [],
   "source": [
    "df_subset = df.drop(['number_of_sites', 'year', 'ordered_meals', 'previous_day_meals', 'first_meals', 'second_meals',\n",
    "       'program_adult_meals', 'nonprogram_adult_meals','damaged_meals', 'leftover_meals','available_meals',\n",
    "       'served_meals','unserved_people', 'wasted_meals' ], axis=1)\n",
    "df_subset.columns"
   ]
  },
  {
   "cell_type": "code",
   "execution_count": null,
   "metadata": {
    "id": "CcJK61pMAbiQ"
   },
   "outputs": [],
   "source": [
    "# df_corr = df_subset[['meals_needed', 'temperature', 'humidity',\n",
    "#        'precipitation', 'event', 'number_of_regions', 'week_order', 'number_of_days_operated',\n",
    "#        'meals_needed_2weeks_prior', 'people_unserved_2weeks_prior',\n",
    "#        'prev_year_meals_needed_this_week']]"
   ]
  },
  {
   "cell_type": "code",
   "execution_count": null,
   "metadata": {
    "id": "ITAS_F61Anoe"
   },
   "outputs": [],
   "source": [
    "# sns.pairplot(df_corr)"
   ]
  },
  {
   "cell_type": "code",
   "execution_count": null,
   "metadata": {
    "id": "UUKSbuCgIPaH"
   },
   "outputs": [],
   "source": [
    "# corr = df_corr.corr()\n",
    "# sns.heatmap(corr )"
   ]
  },
  {
   "cell_type": "code",
   "execution_count": null,
   "metadata": {
    "colab": {
     "base_uri": "https://localhost:8080/",
     "height": 317
    },
    "id": "Uyocq4ix4xiW",
    "outputId": "0437a5dd-17c6-4f45-86a7-341e30e970bb"
   },
   "outputs": [],
   "source": [
    "df_subset.head()"
   ]
  },
  {
   "cell_type": "code",
   "execution_count": null,
   "metadata": {
    "colab": {
     "base_uri": "https://localhost:8080/"
    },
    "id": "w1RZAlHzOL-2",
    "outputId": "181140d4-73e5-41c1-d868-307201c9b817"
   },
   "outputs": [],
   "source": [
    "df_subset.columns"
   ]
  },
  {
   "cell_type": "code",
   "execution_count": null,
   "metadata": {
    "colab": {
     "base_uri": "https://localhost:8080/"
    },
    "id": "blL7Ym1vlYww",
    "outputId": "729cd01c-d4fe-4a46-e1b2-92156f973253"
   },
   "outputs": [],
   "source": [
    "df_subset.shape"
   ]
  },
  {
   "cell_type": "code",
   "execution_count": null,
   "metadata": {
    "id": "B7y7VOzP_uvg"
   },
   "outputs": [],
   "source": [
    "test_data = df_subset.tail(10)\n",
    "train_data = df_subset.head(len(df_subset) - 10)"
   ]
  },
  {
   "cell_type": "code",
   "execution_count": null,
   "metadata": {
    "id": "qo5aEddv_uvi"
   },
   "outputs": [],
   "source": [
    "def model_building(train_data, test_data):\n",
    "  X_train = train_data.drop(['meals_needed', 'week_serial_number'], axis=1)\n",
    "  y_train = train_data['meals_needed']\n",
    "  X_test = test_data.drop(['meals_needed', 'week_serial_number'], axis=1)\n",
    "  y_test = test_data['meals_needed']\n",
    "\n",
    "  return X_train, X_test, y_train, y_test\n",
    "\n",
    "\n",
    "X_train, X_test, y_train, y_test = model_building(train_data, test_data)"
   ]
  },
  {
   "cell_type": "code",
   "execution_count": null,
   "metadata": {
    "colab": {
     "base_uri": "https://localhost:8080/"
    },
    "id": "L959cqF6I1xe",
    "outputId": "02ea5bab-156c-4ec0-a71c-812c01957d34"
   },
   "outputs": [],
   "source": [
    "X_test.shape"
   ]
  },
  {
   "cell_type": "markdown",
   "metadata": {
    "id": "M8ydmIptn7Eo"
   },
   "source": [
    "## **Prediction using XGBRegression**"
   ]
  },
  {
   "cell_type": "code",
   "execution_count": null,
   "metadata": {
    "colab": {
     "base_uri": "https://localhost:8080/"
    },
    "id": "oHYL2Urj_uvj",
    "outputId": "1fdd2dc3-5af8-46d7-dde2-3db97b03957f"
   },
   "outputs": [],
   "source": [
    "xgbr = XGBRegressor()\n",
    "xgbr.fit(X_train, y_train)\n",
    "\n",
    "predictions = xgbr.predict(X_test)\n",
    "\n",
    "mae = mean_absolute_error(y_test, predictions)\n",
    "print(\"Mean Absolute Error: \", mae)\n",
    "\n",
    "rmse = mean_squared_error(y_test, predictions, squared=False)\n",
    "print(\"Root Mean Squared Error (RMSE):\", rmse)\n",
    "\n",
    "mape = np.mean(np.abs((y_test - predictions) / y_test)) * 100\n",
    "\n",
    "print(\"Mean Absolute Percentage Error (MAPE):\", mape)"
   ]
  },
  {
   "cell_type": "code",
   "execution_count": null,
   "metadata": {
    "colab": {
     "base_uri": "https://localhost:8080/",
     "height": 662
    },
    "id": "qxWQYkAQ_uvk",
    "outputId": "27e4943c-449b-4022-9861-9adf9533913d"
   },
   "outputs": [],
   "source": [
    "test_data = pd.concat([X_test, y_test], axis=1)\n",
    "test_data['predicted_meals'] = predictions\n",
    "test_data['error_xgbr']=test_data['predicted_meals'] - test_data['meals_needed']\n",
    "test_data"
   ]
  },
  {
   "cell_type": "code",
   "execution_count": null,
   "metadata": {
    "colab": {
     "base_uri": "https://localhost:8080/",
     "height": 662
    },
    "id": "1UI5sQPlxG2u",
    "outputId": "29d13110-026b-4b4f-d4ed-f1fd4c1174f7"
   },
   "outputs": [],
   "source": [
    "test_data['available_meals'] = df['available_meals'].tail(16)\n",
    "test_data['served_meals'] = df['served_meals'].tail(16)\n",
    "test_data['human_error'] = test_data['available_meals'] - test_data['served_meals']\n",
    "\n",
    "test_data"
   ]
  },
  {
   "cell_type": "code",
   "execution_count": null,
   "metadata": {
    "colab": {
     "base_uri": "https://localhost:8080/",
     "height": 1000
    },
    "id": "LQEK0LbSk3d7",
    "outputId": "3fb027c5-8c63-4919-8834-fd59d4191de9"
   },
   "outputs": [],
   "source": [
    "import plotly.graph_objects as go\n",
    "\n",
    "labels = test_data.index.tolist()  # Use row index as labels\n",
    "values_meals_needed = test_data['meals_needed']\n",
    "values_predicted_meals = test_data['predicted_meals']\n",
    "values_available_meals = test_data['available_meals']\n",
    "\n",
    "data = [\n",
    "    go.Bar(\n",
    "        name='Meals Needed',\n",
    "        y=labels,\n",
    "        x=values_meals_needed,\n",
    "        orientation='h',\n",
    "        offsetgroup=0\n",
    "    ),\n",
    "    go.Bar(\n",
    "        name='Predicted Meals',\n",
    "        y=labels,\n",
    "        x=values_predicted_meals,\n",
    "        orientation='h',\n",
    "        offsetgroup=1\n",
    "    ),\n",
    "    go.Bar(\n",
    "        name='Available Meals',\n",
    "        y=labels,\n",
    "        x=values_available_meals,\n",
    "        orientation='h',\n",
    "        offsetgroup=2\n",
    "    )\n",
    "]\n",
    "\n",
    "layout = go.Layout(\n",
    "    title='Meal Demand',\n",
    "    xaxis=dict(title='Number of Meals'),\n",
    "    yaxis=dict(title='Rows'),\n",
    "    height=1000,\n",
    "    barmode='group'\n",
    ")\n",
    "\n",
    "figure = go.Figure(data=data, layout=layout)\n",
    "figure.show()\n"
   ]
  },
  {
   "cell_type": "code",
   "execution_count": null,
   "metadata": {
    "colab": {
     "base_uri": "https://localhost:8080/"
    },
    "id": "szA4OaICut7i",
    "outputId": "1d493dc8-23c9-430e-fd4e-aca393dc0aca"
   },
   "outputs": [],
   "source": [
    "X_test.columns"
   ]
  },
  {
   "cell_type": "code",
   "execution_count": null,
   "metadata": {
    "colab": {
     "base_uri": "https://localhost:8080/",
     "height": 447
    },
    "id": "auYr5WtMnm5B",
    "outputId": "79ab41f5-3c16-4064-ecc6-e246178b31c7"
   },
   "outputs": [],
   "source": [
    "test_data1=test_data.sort_values('meals_needed', ascending=True)\n",
    "plt.plot(test_data1['meals_needed'], test_data1['predicted_meals'])\n",
    "plt.plot(test_data1['meals_needed'], test_data1['meals_needed'])"
   ]
  },
  {
   "cell_type": "code",
   "execution_count": null,
   "metadata": {
    "colab": {
     "base_uri": "https://localhost:8080/"
    },
    "id": "X-7PpCaJTqP-",
    "outputId": "30290ca1-ec9f-4484-f180-ba06a3f8e713"
   },
   "outputs": [],
   "source": [
    "xgbr.feature_importances_"
   ]
  },
  {
   "cell_type": "code",
   "execution_count": null,
   "metadata": {
    "colab": {
     "base_uri": "https://localhost:8080/",
     "height": 847
    },
    "id": "doxpcnNXTO8l",
    "outputId": "821a648d-f7b4-4f12-a313-2296f063a41f"
   },
   "outputs": [],
   "source": [
    "feat_importances = pd.DataFrame(xgbr.feature_importances_, index=X_train.columns).reset_index().sort_values(0,ascending=False)\n",
    "feat_importances.head(5)\n",
    "plt.figure(figsize=(10,10))\n",
    "plt.barh(feat_importances['index'], feat_importances[0])"
   ]
  },
  {
   "cell_type": "markdown",
   "metadata": {
    "id": "RyyQbYk6U-o1"
   },
   "source": [
    "# **Prediction using Gradient Boosting Machines**"
   ]
  },
  {
   "cell_type": "code",
   "execution_count": null,
   "metadata": {
    "colab": {
     "base_uri": "https://localhost:8080/"
    },
    "id": "mT3lV4JxVelo",
    "outputId": "713a0a17-d024-46ad-d4ac-20c5507bb887"
   },
   "outputs": [],
   "source": [
    "from sklearn.ensemble import GradientBoostingRegressor\n",
    "\n",
    "gbm = GradientBoostingRegressor()\n",
    "\n",
    "gbm.fit(X_train, y_train)\n",
    "\n",
    "predictions = gbm.predict(X_test)\n",
    "\n",
    "mae = mean_absolute_error(y_test, predictions)\n",
    "print(\"Mean Absolute Error: \", mae)\n",
    "\n",
    "rmse = mean_squared_error(y_test, predictions, squared=False)\n",
    "print(\"Root Mean Squared Error (RMSE):\", rmse)\n",
    "\n",
    "mape = np.mean(np.abs((y_test - predictions) / y_test)) * 100\n",
    "\n",
    "print(\"Mean Absolute Percentage Error (MAPE):\", mape)"
   ]
  },
  {
   "cell_type": "code",
   "execution_count": null,
   "metadata": {
    "colab": {
     "base_uri": "https://localhost:8080/",
     "height": 662
    },
    "id": "Or0mYElGVw7v",
    "outputId": "f179a724-d542-4f83-9667-507ef995f21a"
   },
   "outputs": [],
   "source": [
    "test_data_gbm = pd.concat([X_test, y_test], axis=1)\n",
    "\n",
    "test_data_gbm['predicted_meals_gbm'] = predictions\n",
    "test_data_gbm['error_gbm']=test_data_gbm['predicted_meals_gbm'] - test_data_gbm['meals_needed']\n",
    "\n",
    "test_data_gbm['available_meals'] = df['available_meals'].tail(16)\n",
    "test_data_gbm['served_meals'] = df['served_meals'].tail(16)\n",
    "test_data_gbm['human_error'] = test_data_gbm['available_meals'] - test_data_gbm['served_meals']\n",
    "\n",
    "test_data_gbm"
   ]
  },
  {
   "cell_type": "code",
   "execution_count": null,
   "metadata": {
    "colab": {
     "base_uri": "https://localhost:8080/",
     "height": 1000
    },
    "id": "mQflUNHArOCY",
    "outputId": "9f19a554-e0b3-482e-cef3-f5ff118dfb21"
   },
   "outputs": [],
   "source": [
    "import plotly.graph_objects as go\n",
    "\n",
    "labels = test_data_gbm.index.tolist()  # Use row index as labels\n",
    "values_meals_needed = test_data_gbm['meals_needed']\n",
    "values_predicted_meals = test_data_gbm['predicted_meals_gbm']\n",
    "values_available_meals = test_data_gbm['available_meals']\n",
    "\n",
    "data = [\n",
    "    go.Bar(\n",
    "        name='Meals Needed',\n",
    "        y=labels,\n",
    "        x=values_meals_needed,\n",
    "        orientation='h',\n",
    "        offsetgroup=0\n",
    "    ),\n",
    "    go.Bar(\n",
    "        name='Predicted Meals',\n",
    "        y=labels,\n",
    "        x=values_predicted_meals,\n",
    "        orientation='h',\n",
    "        offsetgroup=1\n",
    "    ),\n",
    "    go.Bar(\n",
    "        name='Available Meals',\n",
    "        y=labels,\n",
    "        x=values_available_meals,\n",
    "        orientation='h',\n",
    "        offsetgroup=2\n",
    "    )\n",
    "]\n",
    "\n",
    "layout = go.Layout(\n",
    "    title='Meal Demand',\n",
    "    xaxis=dict(title='Number of Meals'),\n",
    "    yaxis=dict(title='Rows'),\n",
    "    height=1000,\n",
    "    barmode='group'\n",
    ")\n",
    "\n",
    "figure = go.Figure(data=data, layout=layout)\n",
    "figure.show()\n"
   ]
  },
  {
   "cell_type": "code",
   "execution_count": null,
   "metadata": {
    "colab": {
     "base_uri": "https://localhost:8080/",
     "height": 447
    },
    "id": "k93TAx9EV3o8",
    "outputId": "399d6640-9adb-46b0-eff0-8a1bbe954c0f"
   },
   "outputs": [],
   "source": [
    "test_data2=test_data_gbm.sort_values('meals_needed', ascending=True)\n",
    "plt.plot(test_data2['meals_needed'], test_data2['predicted_meals_gbm'])\n",
    "plt.plot(test_data2['meals_needed'], test_data2['meals_needed'])"
   ]
  },
  {
   "cell_type": "markdown",
   "metadata": {
    "id": "gigurNg0Ve8v"
   },
   "source": [
    "# **Prediction using Random Forest**"
   ]
  },
  {
   "cell_type": "code",
   "execution_count": null,
   "metadata": {
    "colab": {
     "base_uri": "https://localhost:8080/"
    },
    "id": "X09l46WvVnKG",
    "outputId": "502fca8c-538f-4198-ba31-271d28a4f778"
   },
   "outputs": [],
   "source": [
    "from sklearn.ensemble import RandomForestRegressor\n",
    "\n",
    "rf = RandomForestRegressor()\n",
    "\n",
    "rf.fit(X_train, y_train)\n",
    "\n",
    "predictions = rf.predict(X_test)\n",
    "mae = mean_absolute_error(y_test, predictions)\n",
    "print(\"Mean Absolute Error: \", mae)\n",
    "\n",
    "rmse = mean_squared_error(y_test, predictions, squared=False)\n",
    "print(\"Root Mean Squared Error (RMSE):\", rmse)\n",
    "\n",
    "mape = np.mean(np.abs((y_test - predictions) / y_test)) * 100\n",
    "\n",
    "print(\"Mean Absolute Percentage Error (MAPE):\", mape)"
   ]
  },
  {
   "cell_type": "code",
   "execution_count": null,
   "metadata": {
    "colab": {
     "base_uri": "https://localhost:8080/",
     "height": 662
    },
    "id": "zkKP6UYSWHY5",
    "outputId": "5639a3b4-18f7-414c-e502-a97da7ff5b36"
   },
   "outputs": [],
   "source": [
    "test_data_rf = pd.concat([X_test, y_test], axis=1)\n",
    "\n",
    "test_data_rf['predicted_meals_rf'] = predictions\n",
    "test_data_rf['error_rf']=test_data_rf['predicted_meals_rf'] - test_data_rf['meals_needed']\n",
    "\n",
    "test_data_rf['available_meals'] = df['available_meals'].tail(16)\n",
    "test_data_rf['served_meals'] = df['served_meals'].tail(16)\n",
    "test_data_rf['human_error'] = test_data_rf['available_meals'] - test_data_rf['served_meals']\n",
    "test_data_rf"
   ]
  },
  {
   "cell_type": "code",
   "execution_count": null,
   "metadata": {
    "colab": {
     "base_uri": "https://localhost:8080/",
     "height": 1000
    },
    "id": "4wP-AQz4ryI4",
    "outputId": "6bd502d7-99a3-46cf-a722-44fb32889f01"
   },
   "outputs": [],
   "source": [
    "import plotly.graph_objects as go\n",
    "\n",
    "labels = test_data_rf.index.tolist()  # Use row index as labels\n",
    "values_meals_needed = test_data_rf['meals_needed']\n",
    "values_predicted_meals = test_data_rf['predicted_meals_rf']\n",
    "values_available_meals = test_data_rf['available_meals']\n",
    "\n",
    "data = [\n",
    "    go.Bar(\n",
    "        name='Meals Needed',\n",
    "        y=labels,\n",
    "        x=values_meals_needed,\n",
    "        orientation='h',\n",
    "        offsetgroup=0\n",
    "    ),\n",
    "    go.Bar(\n",
    "        name='Predicted Meals',\n",
    "        y=labels,\n",
    "        x=values_predicted_meals,\n",
    "        orientation='h',\n",
    "        offsetgroup=1\n",
    "    ),\n",
    "    go.Bar(\n",
    "        name='Available Meals',\n",
    "        y=labels,\n",
    "        x=values_available_meals,\n",
    "        orientation='h',\n",
    "        offsetgroup=2\n",
    "    )\n",
    "]\n",
    "\n",
    "layout = go.Layout(\n",
    "    title='Meal Demand',\n",
    "    xaxis=dict(title='Number of Meals'),\n",
    "    yaxis=dict(title='Rows'),\n",
    "    height=1000,\n",
    "    barmode='group'\n",
    ")\n",
    "\n",
    "figure = go.Figure(data=data, layout=layout)\n",
    "figure.show()\n"
   ]
  },
  {
   "cell_type": "code",
   "execution_count": null,
   "metadata": {
    "colab": {
     "base_uri": "https://localhost:8080/",
     "height": 447
    },
    "id": "U-Iy5EqKWMjA",
    "outputId": "6ca02e75-66f6-430f-9dce-ba79e3253e14"
   },
   "outputs": [],
   "source": [
    "test_data3=test_data_rf.sort_values('meals_needed', ascending=True)\n",
    "plt.plot(test_data3['meals_needed'], test_data3['predicted_meals_rf'])\n",
    "plt.plot(test_data3['meals_needed'], test_data3['meals_needed'])"
   ]
  },
  {
   "cell_type": "markdown",
   "metadata": {
    "id": "E3dkqjoI2Uyj"
   },
   "source": [
    "# **Congregate Data Prediction**"
   ]
  },
  {
   "cell_type": "code",
   "execution_count": null,
   "metadata": {
    "colab": {
     "base_uri": "https://localhost:8080/"
    },
    "id": "69cGVzxN2ZKv",
    "outputId": "e7977360-4e38-43ff-9bfd-10c1e51ce165"
   },
   "outputs": [],
   "source": [
    "df_cong = df[df['year'].isin([2016, 2017, 2018, 2019, 2022])].reset_index()\n",
    "\n",
    "df_subset1 = df_cong.drop(['number_of_sites', 'year', 'ordered_meals', 'previous_day_meals', 'first_meals', 'second_meals',\n",
    "       'program_adult_meals', 'nonprogram_adult_meals','damaged_meals', 'leftover_meals','available_meals',\n",
    "       'served_meals','unserved_people', 'wasted_meals' ], axis=1)\n",
    "df_subset1.columns"
   ]
  },
  {
   "cell_type": "code",
   "execution_count": null,
   "metadata": {
    "id": "myKW21FG92A-"
   },
   "outputs": [],
   "source": [
    "test_data1 = df_subset1.tail(10)\n",
    "train_data1 = df_subset1.head(len(df_subset1) - 10)"
   ]
  },
  {
   "cell_type": "code",
   "execution_count": null,
   "metadata": {
    "id": "rhCaLOxW-L--"
   },
   "outputs": [],
   "source": [
    "X_train1, X_test1, y_train1, y_test1 = model_building(train_data1, test_data1)"
   ]
  },
  {
   "cell_type": "code",
   "execution_count": null,
   "metadata": {
    "colab": {
     "base_uri": "https://localhost:8080/"
    },
    "id": "9NWDmgD_-T9Q",
    "outputId": "77059d81-824d-47b9-c7f0-b421b95d28f2"
   },
   "outputs": [],
   "source": [
    "xgbr1 = XGBRegressor()\n",
    "xgbr1.fit(X_train1, y_train1)\n",
    "\n",
    "predictions = xgbr1.predict(X_test1)\n",
    "\n",
    "mae = mean_absolute_error(y_test1, predictions)\n",
    "print(\"Mean Absolute Error: \", mae)\n",
    "\n",
    "rmse = mean_squared_error(y_test1, predictions, squared=False)\n",
    "print(\"Root Mean Squared Error (RMSE):\", rmse)\n",
    "\n",
    "mape = np.mean(np.abs((y_test1 - predictions) / y_test1)) * 100\n",
    "\n",
    "print(\"Mean Absolute Percentage Error (MAPE):\", mape)"
   ]
  },
  {
   "cell_type": "code",
   "execution_count": null,
   "metadata": {
    "colab": {
     "base_uri": "https://localhost:8080/",
     "height": 456
    },
    "id": "s9IScFLx-Y99",
    "outputId": "0f42c223-fbfa-4a77-e998-b2e7b65286eb"
   },
   "outputs": [],
   "source": [
    "test_data_cong = pd.concat([X_test1, y_test1], axis=1)\n",
    "\n",
    "test_data_cong['predicted_meals_cong'] = predictions\n",
    "test_data_cong['error_cong']=test_data_cong['predicted_meals_cong'] - test_data_cong['meals_needed']\n",
    "\n",
    "test_data_cong['available_meals'] = df_cong['available_meals'].tail(10)\n",
    "test_data_cong['served_meals'] = df_cong['served_meals'].tail(10)\n",
    "test_data_cong['human_error'] = test_data_cong['available_meals'] - test_data_cong['served_meals']\n",
    "\n",
    "test_data_cong"
   ]
  },
  {
   "cell_type": "code",
   "execution_count": null,
   "metadata": {
    "colab": {
     "base_uri": "https://localhost:8080/",
     "height": 1000
    },
    "id": "5WfVhGLstBdQ",
    "outputId": "93b90368-05bc-4d6c-d6c2-85e9d38a160f"
   },
   "outputs": [],
   "source": [
    "import plotly.graph_objects as go\n",
    "\n",
    "labels = test_data_cong.index.tolist()  # Use row index as labels\n",
    "values_meals_needed = test_data_cong['meals_needed']\n",
    "values_predicted_meals = test_data_cong['predicted_meals_cong']\n",
    "values_available_meals = test_data_cong['available_meals']\n",
    "\n",
    "data = [\n",
    "    go.Bar(\n",
    "        name='Meals Needed',\n",
    "        y=labels,\n",
    "        x=values_meals_needed,\n",
    "        orientation='h',\n",
    "        offsetgroup=0\n",
    "    ),\n",
    "    go.Bar(\n",
    "        name='Predicted Meals',\n",
    "        y=labels,\n",
    "        x=values_predicted_meals,\n",
    "        orientation='h',\n",
    "        offsetgroup=1\n",
    "    ),\n",
    "    go.Bar(\n",
    "        name='Available Meals',\n",
    "        y=labels,\n",
    "        x=values_available_meals,\n",
    "        orientation='h',\n",
    "        offsetgroup=2\n",
    "    )\n",
    "]\n",
    "\n",
    "layout = go.Layout(\n",
    "    title='Meal Demand',\n",
    "    xaxis=dict(title='Number of Meals'),\n",
    "    yaxis=dict(title='Rows'),\n",
    "    height=1000,\n",
    "    barmode='group'\n",
    ")\n",
    "\n",
    "figure = go.Figure(data=data, layout=layout)\n",
    "figure.show()\n"
   ]
  },
  {
   "cell_type": "code",
   "execution_count": null,
   "metadata": {
    "colab": {
     "base_uri": "https://localhost:8080/",
     "height": 447
    },
    "id": "NrO7591A-lCJ",
    "outputId": "d83384a3-1c8a-4ea6-d8e4-dcc08988034c"
   },
   "outputs": [],
   "source": [
    "test_data4=test_data_cong.sort_values('meals_needed', ascending=True)\n",
    "plt.plot(test_data4['meals_needed'], test_data4['predicted_meals_cong'])\n",
    "plt.plot(test_data4['meals_needed'], test_data4['meals_needed'])"
   ]
  },
  {
   "cell_type": "markdown",
   "metadata": {
    "id": "Kjg86-l52Zqh"
   },
   "source": [
    "# **Non-Congregate Data Prediction**"
   ]
  },
  {
   "cell_type": "code",
   "execution_count": null,
   "metadata": {
    "colab": {
     "base_uri": "https://localhost:8080/"
    },
    "id": "SXLo0GZc_MfZ",
    "outputId": "52bab956-9016-4064-a34b-2935f8db56bb"
   },
   "outputs": [],
   "source": [
    "df_noncong = df[df['year'].isin([2020, 2021])]\n",
    "\n",
    "df_subset2 = df_noncong.drop(['number_of_sites', 'year', 'ordered_meals', 'previous_day_meals', 'first_meals', 'second_meals',\n",
    "       'program_adult_meals', 'nonprogram_adult_meals','damaged_meals', 'leftover_meals','available_meals',\n",
    "       'served_meals','unserved_people', 'wasted_meals' ], axis=1)\n",
    "df_subset2.columns"
   ]
  },
  {
   "cell_type": "code",
   "execution_count": null,
   "metadata": {
    "id": "fTyMqGg3_Mff"
   },
   "outputs": [],
   "source": [
    "test_data2 = df_subset2.tail(10)\n",
    "train_data2 = df_subset2.head(len(df_subset2) - 10)"
   ]
  },
  {
   "cell_type": "code",
   "execution_count": null,
   "metadata": {
    "id": "dvGgSanh_Mfl"
   },
   "outputs": [],
   "source": [
    "X_train2, X_test2, y_train2, y_test2 = model_building(train_data2, test_data2)"
   ]
  },
  {
   "cell_type": "code",
   "execution_count": null,
   "metadata": {
    "colab": {
     "base_uri": "https://localhost:8080/"
    },
    "id": "oGXZOKFL_Mfo",
    "outputId": "83815996-249b-4ae0-c274-d707e3ed06b8"
   },
   "outputs": [],
   "source": [
    "xgbr2 = XGBRegressor()\n",
    "xgbr2.fit(X_train2, y_train2)\n",
    "\n",
    "predictions = xgbr2.predict(X_test2)\n",
    "\n",
    "mae = mean_absolute_error(y_test2, predictions)\n",
    "print(\"Mean Absolute Error: \", mae)\n",
    "\n",
    "rmse = mean_squared_error(y_test2, predictions, squared=False)\n",
    "print(\"Root Mean Squared Error (RMSE):\", rmse)\n",
    "\n",
    "mape = np.mean(np.abs((y_test2 - predictions) / y_test2)) * 100\n",
    "\n",
    "print(\"Mean Absolute Percentage Error (MAPE):\", mape)"
   ]
  },
  {
   "cell_type": "code",
   "execution_count": null,
   "metadata": {
    "colab": {
     "base_uri": "https://localhost:8080/",
     "height": 474
    },
    "id": "1ULfkn7D_Mfr",
    "outputId": "b3a0a30e-f82c-4688-fdfd-5753938691b5"
   },
   "outputs": [],
   "source": [
    "test_data_noncong = pd.concat([X_test2, y_test2], axis=1)\n",
    "\n",
    "test_data_noncong['predicted_meals_noncong'] = predictions\n",
    "test_data_noncong['error_noncong']=test_data_noncong['predicted_meals_noncong'] - test_data_noncong['meals_needed']\n",
    "\n",
    "test_data_noncong['available_meals'] = df_noncong['available_meals'].tail(10)\n",
    "test_data_noncong['served_meals'] = df_noncong['served_meals'].tail(10)\n",
    "test_data_noncong['human_error'] = test_data_cong['available_meals'] - test_data_cong['served_meals']\n",
    "\n",
    "test_data_noncong"
   ]
  },
  {
   "cell_type": "code",
   "execution_count": null,
   "metadata": {
    "colab": {
     "base_uri": "https://localhost:8080/",
     "height": 1000
    },
    "id": "btEW6U3Gu7ej",
    "outputId": "a3565a33-f24e-4ed3-e8cb-ef408a482ff0"
   },
   "outputs": [],
   "source": [
    "import plotly.graph_objects as go\n",
    "\n",
    "labels = test_data_noncong.index.tolist()  # Use row index as labels\n",
    "values_meals_needed = test_data_noncong['meals_needed']\n",
    "values_predicted_meals = test_data_noncong['predicted_meals_noncong']\n",
    "values_available_meals = test_data_noncong['available_meals']\n",
    "\n",
    "data = [\n",
    "    go.Bar(\n",
    "        name='Meals Needed',\n",
    "        y=labels,\n",
    "        x=values_meals_needed,\n",
    "        orientation='h',\n",
    "        offsetgroup=0\n",
    "    ),\n",
    "    go.Bar(\n",
    "        name='Predicted Meals',\n",
    "        y=labels,\n",
    "        x=values_predicted_meals,\n",
    "        orientation='h',\n",
    "        offsetgroup=1\n",
    "    ),\n",
    "    go.Bar(\n",
    "        name='Available Meals',\n",
    "        y=labels,\n",
    "        x=values_available_meals,\n",
    "        orientation='h',\n",
    "        offsetgroup=2\n",
    "    )\n",
    "]\n",
    "\n",
    "layout = go.Layout(\n",
    "    title='Meal Demand',\n",
    "    xaxis=dict(title='Number of Meals'),\n",
    "    yaxis=dict(title='Rows'),\n",
    "    height=1000,\n",
    "    barmode='group'\n",
    ")\n",
    "\n",
    "figure = go.Figure(data=data, layout=layout)\n",
    "figure.show()\n"
   ]
  },
  {
   "cell_type": "code",
   "execution_count": null,
   "metadata": {
    "colab": {
     "base_uri": "https://localhost:8080/",
     "height": 447
    },
    "id": "l0QI_FAN_Mft",
    "outputId": "e3602e4f-7c70-47fd-a7e3-c3f798378cf1"
   },
   "outputs": [],
   "source": [
    "test_data5=test_data_noncong.sort_values('meals_needed', ascending=True)\n",
    "plt.plot(test_data5['meals_needed'], test_data5['predicted_meals_noncong'])\n",
    "plt.plot(test_data5['meals_needed'], test_data5['meals_needed'])"
   ]
  },
  {
   "cell_type": "markdown",
   "metadata": {
    "id": "MbuzcgqEoO6J"
   },
   "source": [
    "# **Error Function**"
   ]
  },
  {
   "cell_type": "code",
   "execution_count": null,
   "metadata": {
    "colab": {
     "base_uri": "https://localhost:8080/"
    },
    "id": "UYTjqqvrqAYG",
    "outputId": "c15b5315-fe18-4fea-e780-157e9c6cef08"
   },
   "outputs": [],
   "source": [
    "def error_function(error_col):\n",
    "  value = 0\n",
    "  for error in error_col:\n",
    "    if int(error) < 0:\n",
    "      value += (7 * int(abs(error)))\n",
    "    else:\n",
    "      value += int(error)\n",
    "\n",
    "  return value\n",
    "\n",
    "value = error_function(test_data['error_xgbr'])\n",
    "print(value)\n",
    "value = error_function(test_data_gbm['error_gbm'])\n",
    "print(value)\n",
    "value = error_function(test_data_rf['error_rf'])\n",
    "print(value)"
   ]
  },
  {
   "cell_type": "code",
   "execution_count": null,
   "metadata": {
    "colab": {
     "base_uri": "https://localhost:8080/"
    },
    "id": "wig4qOrPuB8P",
    "outputId": "4b884e92-c4d4-4286-db72-bd13ba9d62df"
   },
   "outputs": [],
   "source": [
    "values = [10, 20, 30, 40, 50, 60, 70, 80, 90, 100, 200, 300, 400, 500, 600, 700]\n",
    "\n",
    "predicted_meals = list(test_data['predicted_meals'])\n",
    "meals_needed = list(test_data['meals_needed'])\n",
    "\n",
    "n = len(predicted_meals)\n",
    "padding = [0] * n\n",
    "for i in range(n):\n",
    "  for j in range(n):\n",
    "    if (meals_needed[i] >= (predicted_meals[i] - values[j])) and (meals_needed[i] <= (predicted_meals[i] + values[j])):\n",
    "      padding[i] += 1\n",
    "\n",
    "print(padding)\n",
    "\n",
    "# 100 - 10%\n",
    "# 150 - 20%\n",
    "# 200 - 30%\n",
    "# 250 - 30%\n",
    "# 300 - 50%\n",
    "# 350 - 50%\n",
    "# 600 - 60%\n",
    "# 700 - 80%\n",
    "\n"
   ]
  },
  {
   "cell_type": "markdown",
   "metadata": {
    "id": "xcbkjkHXv8og"
   },
   "source": [
    "# **Integration with the Dashboard**"
   ]
  },
  {
   "cell_type": "code",
   "execution_count": null,
   "metadata": {
    "colab": {
     "base_uri": "https://localhost:8080/"
    },
    "id": "93hOh7XgyrBa",
    "outputId": "c1400971-6713-4768-903a-c822b3aca15a"
   },
   "outputs": [],
   "source": [
    "X_test.columns"
   ]
  },
  {
   "cell_type": "code",
   "execution_count": null,
   "metadata": {
    "colab": {
     "base_uri": "https://localhost:8080/"
    },
    "id": "WPSO1oop3VLr",
    "outputId": "1c3628e0-1a8e-43a2-a3b4-adb9600adafc"
   },
   "outputs": [],
   "source": [
    "from collections import defaultdict\n",
    "import urllib.request\n",
    "import csv\n",
    "import codecs\n",
    "\n",
    "try:\n",
    "    ResultBytes = urllib.request.urlopen(\"https://weather.visualcrossing.com/VisualCrossingWebServices/rest/services/timeline/Sewanee?include=fcst%2Cobs%2Chistfcst%2Cstats%2Cdays&key=3QCZSDMUE4G8VWNUXHY7ZZEMN&options=beta&contentType=csv\")\n",
    "\n",
    "    # Parse the results as CSV\n",
    "    CSVText = csv.reader(codecs.iterdecode(ResultBytes, 'utf-8'))\n",
    "\n",
    "    # Skip the header row\n",
    "    next(CSVText)\n",
    "\n",
    "    # Process each row of the CSV data\n",
    "    d=defaultdict(list)\n",
    "    for row in (CSVText):\n",
    "        d['date'].append(row[1])\n",
    "        d['temperature'].append(row[4])\n",
    "        d['humidity'].append(row[9])\n",
    "        d['precipitation'].append(row[10])\n",
    "        d['wind'].append(row[17])\n",
    "\n",
    "except urllib.error.HTTPError as e:\n",
    "    ErrorInfo = e.read().decode()\n",
    "    print('Error code:', e.code, ErrorInfo)\n",
    "    sys.exit()\n",
    "except urllib.error.URLError as e:\n",
    "    ErrorInfo = e.read().decode()\n",
    "    print('Error code:', e.code, ErrorInfo)\n",
    "    sys.exit()\n",
    "\n",
    "del(d['date'])\n",
    "print(d)\n"
   ]
  },
  {
   "cell_type": "code",
   "execution_count": null,
   "metadata": {
    "id": "zFF2QKXcxNTC"
   },
   "outputs": [],
   "source": [
    "for i in d.keys():\n",
    "  d[i]=[float(j) for j in d[i]]\n",
    "\n",
    "unseen_data={}\n",
    "\n",
    "unseen_data['temperature']=np.mean(np.array(d['temperature'][7:]))\n",
    "\n",
    "unseen_data['humidity']=np.mean(np.array(d['humidity'][7:]))\n",
    "\n",
    "unseen_data['wind']=np.mean(np.array(d['wind'][7:]))\n",
    "\n",
    "unseen_data['precipitation']=np.mean(np.array(d['precipitation'][7:]))\n",
    "\n",
    "def region_cols(input_list):\n",
    "  d={}\n",
    "  regions=['region_Altamont',\n",
    "       'region_Beersheba Springs', 'region_Coalmont',\n",
    "       'region_Coalmont-Altamont', 'region_Decherd',\n",
    "       'region_Downtown Winchester', 'region_Gruetli-Palmer', 'region_Midway',\n",
    "       'region_Monteagle', 'region_Pelham', 'region_Rural Decherd',\n",
    "       'region_Sewanee', 'region_Sherwood', 'region_Tracy City',\n",
    "       'region_Winchester']\n",
    "  for i in regions:\n",
    "    if i in input_list:\n",
    "      d[i]=1\n",
    "    else:\n",
    "      d[i]=0\n",
    "  return d\n",
    "\n",
    "unseen_data['event']= 0\n",
    "unseen_data['week_order']= 1\n",
    "unseen_data['number_of_regions']=2\n",
    "unseen_data['number_of_days_operated']=2\n",
    "\n",
    "from datetime import date\n",
    "last_yr=date.today().year -1\n",
    "unseen_data['prev_year_meals_needed_this_week']=int(df[(df['year']==last_yr) & (df['week_order']==unseen_data['week_order'])]['meals_needed'])\n",
    "unseen_data['meals_needed_2weeks_prior']=float(df[df['week_serial_number']==df['week_serial_number'].max()]['meals_needed'])\n",
    "unseen_data['meals_available_2weeks_prior']=float(df[df['week_serial_number']==df['week_serial_number'].max()]['available_meals'])\n",
    "unseen_data['meals_served_2weeks_prior']=float(df[df['week_serial_number']==df['week_serial_number'].max()]['served_meals'])\n",
    "unseen_data['people_unserved_2weeks_prior']=float(df[df['week_serial_number']==df['week_serial_number'].max()]['unserved_people'])\n",
    "\n",
    "input_list=['Altamont', 'Decherd']\n",
    "input_list1=['region_'+i for i in input_list]\n",
    "region_dict=region_cols(input_list1)\n",
    "\n",
    "unseen_data['size'] = 0\n",
    "\n",
    "for i in input_list:\n",
    "  size = region_size[region_size['region'] == i]['size']\n",
    "  unseen_data['size'] += size\n",
    "\n"
   ]
  },
  {
   "cell_type": "code",
   "execution_count": null,
   "metadata": {
    "colab": {
     "base_uri": "https://localhost:8080/",
     "height": 191
    },
    "id": "XHtRuN5WDH6o",
    "outputId": "146e9651-2f0b-4dd6-c715-26058a47c807"
   },
   "outputs": [],
   "source": [
    "test_d = {**unseen_data, **region_dict}\n",
    "x_test=pd.DataFrame(test_d, index=[0])\n",
    "x_test"
   ]
  },
  {
   "cell_type": "code",
   "execution_count": null,
   "metadata": {
    "colab": {
     "base_uri": "https://localhost:8080/",
     "height": 191
    },
    "id": "_i-OZ8AWH4k6",
    "outputId": "ba4043b6-0992-415c-fff3-0d85e124c726"
   },
   "outputs": [],
   "source": [
    "x_test['temperature']=x_test['temperature'].apply(lambda x: 0 if x <  threshold_temp[0]\n",
    "                                                                                  else (1 if (x <  threshold_temp[1])\n",
    "                                                                                  else (2 if x <  threshold_temp[2] else 3)))\n",
    "\n",
    "x_test['humidity']=x_test['humidity'].apply(lambda x: 0 if x <  threshold_humidity[0]\n",
    "                                                                                  else (1 if (x <  threshold_humidity[1])\n",
    "                                                                                  else (2 if x <  threshold_humidity[2] else 3)))\n",
    "\n",
    "x_test['wind']=x_test['wind'].apply(lambda x: 0 if x <  threshold_wind[0]\n",
    "                                                                                  else (1 if (x <  threshold_wind[1])\n",
    "                                                                                  else (2 if x <  threshold_wind[2] else 3)))\n",
    "x_test['precipitation']=x_test['precipitation'].apply(lambda x: 0 if x <  threshold_prec[0]\n",
    "                                                                                  else (1 if (x <  threshold_prec[1])\n",
    "                                                                                  else (2 if x <  threshold_prec[2] else 3)))\n",
    "\n",
    "x_test"
   ]
  },
  {
   "cell_type": "code",
   "execution_count": null,
   "metadata": {
    "colab": {
     "base_uri": "https://localhost:8080/",
     "height": 191
    },
    "id": "97W5F33oIZG7",
    "outputId": "1403ae82-65f1-4ac1-bd0d-570edf4ca4a0"
   },
   "outputs": [],
   "source": [
    "x_test=x_test[X_test.columns]\n",
    "x_test"
   ]
  },
  {
   "cell_type": "code",
   "execution_count": null,
   "metadata": {
    "colab": {
     "base_uri": "https://localhost:8080/"
    },
    "id": "FtddPvMyJD3D",
    "outputId": "a8faa4db-4978-42cb-fbba-716e27d0b1b9"
   },
   "outputs": [],
   "source": [
    "X_test.info()"
   ]
  },
  {
   "cell_type": "code",
   "execution_count": null,
   "metadata": {
    "colab": {
     "base_uri": "https://localhost:8080/"
    },
    "id": "s1tgjg0VxdAo",
    "outputId": "435b3049-6363-4178-94d3-faa4f420906b"
   },
   "outputs": [],
   "source": [
    "xgbr.predict(x_test)"
   ]
  },
  {
   "cell_type": "code",
   "execution_count": null,
   "metadata": {
    "id": "0wgLh2sa-tDt"
   },
   "outputs": [],
   "source": [
    "df.columns"
   ]
  }
 ],
 "metadata": {
  "colab": {
   "collapsed_sections": [
    "-gb8v9vvKEOt"
   ],
   "provenance": []
  },
  "kernelspec": {
   "display_name": "Python 3 (ipykernel)",
   "language": "python",
   "name": "python3"
  },
  "language_info": {
   "codemirror_mode": {
    "name": "ipython",
    "version": 3
   },
   "file_extension": ".py",
   "mimetype": "text/x-python",
   "name": "python",
   "nbconvert_exporter": "python",
   "pygments_lexer": "ipython3",
   "version": "3.9.13"
  }
 },
 "nbformat": 4,
 "nbformat_minor": 1
}
