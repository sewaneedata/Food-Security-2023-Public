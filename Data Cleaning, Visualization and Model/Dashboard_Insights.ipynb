{
 "cells": [
  {
   "cell_type": "markdown",
   "metadata": {
    "id": "WRVOJDtmv0uo"
   },
   "source": [
    "# **Importing Code**"
   ]
  },
  {
   "cell_type": "code",
   "execution_count": null,
   "metadata": {
    "colab": {
     "base_uri": "https://localhost:8080/",
     "height": 1000
    },
    "id": "BHLLx6O2vxnB",
    "outputId": "1a86fb52-4347-44f3-e4b1-e86d64b019cf"
   },
   "outputs": [],
   "source": [
    "from google.colab import drive\n",
    "drive.mount('/content/drive')\n",
    "import pandas as pd\n",
    "import seaborn as sns\n",
    "import plotly.express as px\n",
    "\n",
    "\n",
    "%run '/content/drive/MyDrive/Colab Notebooks/Data Cleaning - Food Security.ipynb'\n"
   ]
  },
  {
   "cell_type": "code",
   "execution_count": null,
   "metadata": {
    "colab": {
     "base_uri": "https://localhost:8080/"
    },
    "id": "VXv8fZ2RD6Y3",
    "outputId": "d91f8b83-c7d4-4ace-aedf-81f6d36e371a"
   },
   "outputs": [],
   "source": [
    "meals_dataset.columns"
   ]
  },
  {
   "cell_type": "code",
   "execution_count": null,
   "metadata": {
    "colab": {
     "base_uri": "https://localhost:8080/"
    },
    "id": "5girfl7FQ7kM",
    "outputId": "74382353-56c3-4658-89f6-853415a253a2"
   },
   "outputs": [],
   "source": [
    "import os\n",
    "os.listdir('/content/drive/MyDrive/Colab Notebooks')"
   ]
  },
  {
   "cell_type": "code",
   "execution_count": null,
   "metadata": {
    "id": "CWaOOJZi_HOZ"
   },
   "outputs": [],
   "source": [
    "## Inputing data for 2023 and validation\n",
    "SHEET_ID = 'REDACTED'\n",
    "SHEET_NAME6 = 'REDACTED'\n",
    "SHEET_NAME7 = 'REDACTED'\n",
    "url6 = f'https://docs.google.com/spreadsheets/d/{SHEET_ID}/gviz/tq?tqx=out:csv&sheet={SHEET_NAME6}'\n",
    "url7 = f'https://docs.google.com/spreadsheets/d/{SHEET_ID}/gviz/tq?tqx=out:csv&sheet={SHEET_NAME7}'\n",
    "validating = pd.read_csv(url6, index_col=0)\n",
    "data_test = pd.read_csv(url7, index_col=0)"
   ]
  },
  {
   "cell_type": "code",
   "execution_count": null,
   "metadata": {
    "colab": {
     "base_uri": "https://localhost:8080/"
    },
    "id": "WhCp3SI4SncP",
    "outputId": "c17d168b-c788-4ce1-8256-1cd7d90e9e87"
   },
   "outputs": [],
   "source": [
    "dataset.columns"
   ]
  },
  {
   "cell_type": "markdown",
   "metadata": {
    "id": "4Pnajp4nwWlm"
   },
   "source": [
    "# **Reading Data**"
   ]
  },
  {
   "cell_type": "code",
   "execution_count": null,
   "metadata": {
    "id": "dD0U8bj3jxyA"
   },
   "outputs": [],
   "source": []
  },
  {
   "cell_type": "code",
   "execution_count": null,
   "metadata": {
    "id": "evIw2gX2w-Hp"
   },
   "outputs": [],
   "source": [
    "## Adding column for weeks in operations\n",
    "week_number_dict_min = dict(dataset.groupby('year')['week_number'].min())"
   ]
  },
  {
   "cell_type": "code",
   "execution_count": null,
   "metadata": {
    "colab": {
     "base_uri": "https://localhost:8080/",
     "height": 734
    },
    "id": "Qcx1mfm7xWnH",
    "outputId": "ff743eef-0ced-41e0-ed29-b801817df593"
   },
   "outputs": [],
   "source": [
    "def week(row):\n",
    "  return row['week_number'] - week_number_dict_min[row['year']] + 1\n",
    "\n",
    "dataset['Relative_Week_Number'] = dataset.apply(week, axis=1)\n",
    "\n",
    "dataset.head()"
   ]
  },
  {
   "cell_type": "markdown",
   "metadata": {
    "id": "VYCIHO-V1eNs"
   },
   "source": [
    "## **Data Insights**"
   ]
  },
  {
   "cell_type": "markdown",
   "metadata": {
    "id": "QQiDMQg91i_9"
   },
   "source": [
    "**Insight 1**"
   ]
  },
  {
   "cell_type": "code",
   "execution_count": null,
   "metadata": {
    "id": "GX0g54mvFx4k"
   },
   "outputs": [],
   "source": [
    "dataset['Percentage of Wasted'] = dataset['served_meals'].sum() / dataset['ordered_meals'].sum() * 100"
   ]
  },
  {
   "cell_type": "code",
   "execution_count": null,
   "metadata": {
    "colab": {
     "base_uri": "https://localhost:8080/",
     "height": 790
    },
    "id": "zEyW8nKV1-_0",
    "outputId": "f198c91f-0b80-4c15-86c9-fd6360189898"
   },
   "outputs": [],
   "source": [
    "site_meals_served = year2018.groupby('Relative_Week_Number').mean()[['served_meals', 'unserved_people']].reset_index()\n",
    "plt.figure(figsize=(8,8))\n",
    "sns.lineplot(data=site_meals_served, x='Relative_Week_Number', y='served_meals', label='People Served')\n",
    "sns.lineplot(data=site_meals_served, x='Relative_Week_Number', y='unserved_people', label='Unserved People')\n",
    "plt.xlabel('Week of Operation')\n",
    "plt.ylabel('Number of People')\n",
    "plt.title('Number of people Unserved and Served vs Week Number')\n",
    "\n",
    "plt.errorbar(x=site_meals_served['Relative_Week_Number'], y=site_meals_served['served_meals'],)\n",
    "plt.errorbar(x=site_meals_served['Relative_Week_Number'], y=site_meals_served['unserved_people'],)"
   ]
  },
  {
   "cell_type": "code",
   "execution_count": null,
   "metadata": {
    "colab": {
     "base_uri": "https://localhost:8080/",
     "height": 363
    },
    "id": "pGGfrnGaUBLl",
    "outputId": "1f58614b-c942-49c7-bcfe-48b677ddc398"
   },
   "outputs": [],
   "source": [
    "dataset.groupby('Relative_Week_Number')[['served_meals', 'unserved_people']].mean().sort_values(by='unserved_people', ascending=True)"
   ]
  },
  {
   "cell_type": "code",
   "execution_count": null,
   "metadata": {
    "colab": {
     "base_uri": "https://localhost:8080/"
    },
    "id": "gaiwXPjJUe2w",
    "outputId": "802ef22c-a95c-43f4-a24c-4307394dd194"
   },
   "outputs": [],
   "source": [
    "dataset['unserved_people'].sort_values(ascending = False)"
   ]
  },
  {
   "cell_type": "code",
   "execution_count": null,
   "metadata": {
    "colab": {
     "base_uri": "https://localhost:8080/",
     "height": 790
    },
    "id": "QbmmBnluk2Xl",
    "outputId": "cba2d59f-ea3d-4ec1-9801-c67cfef7af1c"
   },
   "outputs": [],
   "source": [
    "year2018 = dataset[dataset['year'] == 2020]\n",
    "site_meals_served = year2018.groupby('Relative_Week_Number').mean()[['served_meals', 'unserved_people']].reset_index()\n",
    "plt.figure(figsize=(8,8))\n",
    "sns.lineplot(data=site_meals_served, x='Relative_Week_Number', y='served_meals', label='People Served')\n",
    "sns.lineplot(data=site_meals_served, x='Relative_Week_Number', y='unserved_people', label='Unserved People')\n",
    "plt.xlabel('Week of Operation')\n",
    "plt.ylabel('Number of People')\n",
    "plt.title('Number of people Unserved and Served vs Week Number')\n",
    "\n",
    "plt.errorbar(x=site_meals_served['Relative_Week_Number'], y=site_meals_served['served_meals'],)\n",
    "plt.errorbar(x=site_meals_served['Relative_Week_Number'], y=site_meals_served['unserved_people'],)"
   ]
  },
  {
   "cell_type": "code",
   "execution_count": null,
   "metadata": {
    "colab": {
     "base_uri": "https://localhost:8080/"
    },
    "id": "FxZO-KSlw94L",
    "outputId": "d4e4f32b-f06a-4cb7-afad-0b6e5843f290"
   },
   "outputs": [],
   "source": [
    "dataset.columns"
   ]
  },
  {
   "cell_type": "markdown",
   "metadata": {
    "id": "Mjezk9-W1pbS"
   },
   "source": [
    "**Insight 2**"
   ]
  },
  {
   "cell_type": "code",
   "execution_count": null,
   "metadata": {
    "colab": {
     "base_uri": "https://localhost:8080/",
     "height": 773
    },
    "id": "AXqECZs41isl",
    "outputId": "6b8c495f-1689-49b2-d585-a23637bbe06b"
   },
   "outputs": [],
   "source": [
    "site_meals_served = dataset.groupby('Relative_Week_Number').mean()['Percentage of Wasted'].reset_index()\n",
    "plt.figure(figsize=(8,8))\n",
    "sns.barplot(data=site_meals_served, x='Relative_Week_Number', y='Percentage of Wasted', label='Wasted')\n",
    "plt.xlabel('Week of Operation')\n",
    "plt.ylabel('Percentage of Wasted Meals')\n",
    "plt.title('Percentage of Wasted Meals per Week Number')\n",
    "\n",
    "served_meals_error = dataset.groupby('Relative_Week_Number')['served_meals'].std().reset_index()\n",
    "unserved_people_error = dataset.groupby('Relative_Week_Number')['unserved_people'].std().reset_index()"
   ]
  },
  {
   "cell_type": "markdown",
   "metadata": {
    "id": "qgKdvRmR1tfx"
   },
   "source": [
    "**Insight 3**"
   ]
  },
  {
   "cell_type": "code",
   "execution_count": null,
   "metadata": {
    "colab": {
     "base_uri": "https://localhost:8080/",
     "height": 790
    },
    "id": "gYsCLbPa1-OQ",
    "outputId": "5e4585cb-2ba0-4fe8-fa34-e4fb7ce69d6f"
   },
   "outputs": [],
   "source": [
    "site_meals_served = dataset.groupby('Relative_Week_Number').mean()[['ordered_meals']].reset_index()\n",
    "plt.figure(figsize=(8,8))\n",
    "sns.lineplot(data=site_meals_served, x='Relative_Week_Number', y='ordered_meals')\n",
    "plt.xlabel('Week of Operation')\n",
    "plt.ylabel('Number of Meals Ordered')\n",
    "plt.title('Week Number vs Number of Meals Ordered')"
   ]
  },
  {
   "cell_type": "markdown",
   "metadata": {
    "id": "DIS7Nxjj1x3F"
   },
   "source": [
    "**Insight 4**"
   ]
  },
  {
   "cell_type": "code",
   "execution_count": null,
   "metadata": {
    "id": "NVs9j2V81_ww"
   },
   "outputs": [],
   "source": [
    "site_meals_melted = pd.melt(dataset, id_vars = ['date', 'day_of_week', 'year', 'region'], value_vars = ['wasted_meals', 'served_meals', 'unserved_people'])"
   ]
  },
  {
   "cell_type": "code",
   "execution_count": null,
   "metadata": {
    "colab": {
     "base_uri": "https://localhost:8080/",
     "height": 424
    },
    "id": "UIIR4IB0W_mI",
    "outputId": "719b18a1-a84c-4fa7-a2c1-6081bc8ede1f"
   },
   "outputs": [],
   "source": [
    "site_meals_melted[site_meals_melted['variable'] == 'unserved_people']"
   ]
  },
  {
   "cell_type": "code",
   "execution_count": null,
   "metadata": {
    "id": "uaOEHZV-hM5Y"
   },
   "outputs": [],
   "source": [
    "from matplotlib.pyplot import figure"
   ]
  },
  {
   "cell_type": "code",
   "execution_count": null,
   "metadata": {
    "colab": {
     "base_uri": "https://localhost:8080/",
     "height": 591
    },
    "id": "MmsLCr2-CiBj",
    "outputId": "12b0f8f6-1f04-478b-b815-cb480b57934c"
   },
   "outputs": [],
   "source": [
    "day_name = {2:\"Mondays\", 3:\"Tuesdays\", 4:\"Wednesdays\", 5:\"Thursdays\", 6:\"Fridays\", 7:\"Saturdays\", 1:\"Sundays\"}\n",
    "site_meals_melted['text_days']=site_meals_melted['day_of_week'].apply(lambda x: day_name[x])\n",
    "site_meals_melted=site_meals_melted.sort_values('day_of_week', ascending=True)\n",
    "\n",
    "plt.figure(figsize=(12,8), dpi=80)\n",
    "sns.barplot(data = site_meals_melted, x = site_meals_melted['text_days'], y = site_meals_melted['value'], hue = site_meals_melted['variable'], errorbar = None)\n",
    "plt.legend(labels = ['Wasted Meals', 'Unserved Meals', 'Served Meals'])\n",
    "plt.xlabel('Weekday')\n",
    "plt.ylabel('Number of Meals')\n",
    "plt.title('Weekday vs Number of Meals')"
   ]
  },
  {
   "cell_type": "code",
   "execution_count": null,
   "metadata": {
    "id": "N2dziJLDlz3w"
   },
   "outputs": [],
   "source": []
  },
  {
   "cell_type": "code",
   "execution_count": null,
   "metadata": {
    "id": "CDk4uRSSPYmp"
   },
   "outputs": [],
   "source": [
    "dataset['unserved_people'].fillna(0, inplace=True)"
   ]
  },
  {
   "cell_type": "code",
   "execution_count": null,
   "metadata": {
    "id": "aDrIwTbYOP63"
   },
   "outputs": [],
   "source": [
    "dataset['meals_needed'] = dataset['unserved_people'] + dataset['served_meals']"
   ]
  },
  {
   "cell_type": "code",
   "execution_count": null,
   "metadata": {
    "id": "rtEzBzHgMtmk"
   },
   "outputs": [],
   "source": [
    "df = dataset[dataset['year'] == 2016]"
   ]
  },
  {
   "cell_type": "code",
   "execution_count": null,
   "metadata": {
    "colab": {
     "base_uri": "https://localhost:8080/",
     "height": 447
    },
    "id": "i7BXt442Cx05",
    "outputId": "6129550d-87bf-4c37-8a0a-295f496a4cab"
   },
   "outputs": [],
   "source": [
    "sns.boxplot(data=df['meals_needed'])"
   ]
  },
  {
   "cell_type": "code",
   "execution_count": null,
   "metadata": {
    "colab": {
     "base_uri": "https://localhost:8080/",
     "height": 447
    },
    "id": "dIl7APiGKEYh",
    "outputId": "cd478ee2-5076-4abc-bd7a-3bc300bbee46"
   },
   "outputs": [],
   "source": [
    "sns.boxplot(data=dataset['meals_needed'])"
   ]
  },
  {
   "cell_type": "code",
   "execution_count": null,
   "metadata": {
    "colab": {
     "base_uri": "https://localhost:8080/"
    },
    "id": "P3t1uu88NWrY",
    "outputId": "f695149c-0347-4cd9-8d10-55e7bf8bfe73"
   },
   "outputs": [],
   "source": [
    "dataset['meals_needed']"
   ]
  },
  {
   "cell_type": "code",
   "execution_count": null,
   "metadata": {
    "colab": {
     "base_uri": "https://localhost:8080/",
     "height": 472
    },
    "id": "mQhzwx7ZSCVz",
    "outputId": "22c19645-3d77-42cf-83bc-3be962aec6c6"
   },
   "outputs": [],
   "source": [
    "## autocorrelation plot for meals needed\n",
    "pd.plotting.autocorrelation_plot(dataset['meals_needed'])"
   ]
  },
  {
   "cell_type": "code",
   "execution_count": null,
   "metadata": {
    "id": "cZM_sQqgTBkX"
   },
   "outputs": [],
   "source": [
    "meal_counts = dataset[(dataset['year'].isin([2020,2021]))]"
   ]
  },
  {
   "cell_type": "code",
   "execution_count": null,
   "metadata": {
    "colab": {
     "base_uri": "https://localhost:8080/",
     "height": 490
    },
    "id": "4e0Hy6Yxo8Pt",
    "outputId": "07eaf918-0fdc-4b4d-d5e0-2bc845bb60fe"
   },
   "outputs": [],
   "source": [
    "meal_counts.head()"
   ]
  },
  {
   "cell_type": "code",
   "execution_count": null,
   "metadata": {
    "colab": {
     "base_uri": "https://localhost:8080/",
     "height": 472
    },
    "id": "sG--9MbMTm5w",
    "outputId": "03cad33f-ec0d-4b0e-d8ce-1a15f49f55d9"
   },
   "outputs": [],
   "source": [
    "## Autocorrelation plot for 2020\n",
    "pd.plotting.autocorrelation_plot(meal_counts['meals_needed'])"
   ]
  },
  {
   "cell_type": "code",
   "execution_count": null,
   "metadata": {
    "colab": {
     "base_uri": "https://localhost:8080/",
     "height": 751
    },
    "id": "28qo22okUL5J",
    "outputId": "81ba54a4-5d0a-4917-a2fe-9f79302a36ff"
   },
   "outputs": [],
   "source": [
    "dataset.head()"
   ]
  },
  {
   "cell_type": "code",
   "execution_count": null,
   "metadata": {
    "colab": {
     "base_uri": "https://localhost:8080/",
     "height": 503
    },
    "id": "UFO03h4A4Rco",
    "outputId": "b6e5856e-4ec1-4daa-c3ee-df2ef52981f8"
   },
   "outputs": [],
   "source": [
    "plt.boxplot(dataset['wind_speed'])"
   ]
  },
  {
   "cell_type": "code",
   "execution_count": null,
   "metadata": {
    "colab": {
     "base_uri": "https://localhost:8080/",
     "height": 503
    },
    "id": "LD6svIt44us9",
    "outputId": "db59fcd3-822a-4dcd-ad0c-196acea4fe7a"
   },
   "outputs": [],
   "source": [
    "dataset[dataset['wind_speed'] == dataset['wind_speed'].max()]"
   ]
  },
  {
   "cell_type": "code",
   "execution_count": null,
   "metadata": {
    "colab": {
     "base_uri": "https://localhost:8080/"
    },
    "id": "lQTUyuT85qND",
    "outputId": "6bd85cd1-c26b-4cd5-8ec9-c7d8b3900150"
   },
   "outputs": [],
   "source": [
    "dataset.columns\n"
   ]
  },
  {
   "cell_type": "code",
   "execution_count": null,
   "metadata": {
    "id": "FVLGo0j0No6m"
   },
   "outputs": [],
   "source": [
    "dataset['meals_needed_shifted'] = dataset['meals_needed'].shift(2)\n",
    "dataset['wasted_meals_shifted'] = dataset['wasted_meals'].shift(2)"
   ]
  },
  {
   "cell_type": "code",
   "execution_count": null,
   "metadata": {
    "id": "Z31-U6tHeYw1"
   },
   "outputs": [],
   "source": [
    "regions_data = df.groupby(['week_serial_number']).nunique()['region'].reset_index(name='number_of_regions')\n",
    "sites_data = df.groupby(['week_serial_number']).nunique()['site_name'].reset_index(name='number_of_sites')"
   ]
  },
  {
   "cell_type": "code",
   "execution_count": null,
   "metadata": {
    "colab": {
     "base_uri": "https://localhost:8080/"
    },
    "id": "J0mJXA11eH-c",
    "outputId": "104eb7e1-b1f6-417c-d0e1-0d27bf929772"
   },
   "outputs": [],
   "source": [
    "df1 = dataset.groupby(['week_serial_number', 'region']).nunique()['day_of_week'].reset_index(name='number_of_days_operated')\n",
    "df2 = df1.groupby('week_serial_number').sum()['number_of_days_operated']"
   ]
  },
  {
   "cell_type": "code",
   "execution_count": null,
   "metadata": {
    "colab": {
     "base_uri": "https://localhost:8080/",
     "height": 329
    },
    "id": "uWrOjMUiLpSZ",
    "outputId": "146fa8af-8521-4520-ba3e-20c795c90147"
   },
   "outputs": [],
   "source": [
    "datacorr = dataset[['meals_needed', 'Relative_Week_Number', 'temperature', 'precipitation', 'day_of_week', 'wind_speed', 'meals_needed_shifted', 'week_serial_number', 'wasted_meals_shifted', 'event']]"
   ]
  },
  {
   "cell_type": "code",
   "execution_count": null,
   "metadata": {
    "colab": {
     "base_uri": "https://localhost:8080/",
     "height": 184
    },
    "id": "4x6_MLH75I4-",
    "outputId": "3149ce5d-6c09-4cb4-cf00-bd27ec34a858"
   },
   "outputs": [],
   "source": [
    "corr = datacorr.corr()\n",
    "sns.heatmap(corr)"
   ]
  },
  {
   "cell_type": "code",
   "execution_count": null,
   "metadata": {
    "colab": {
     "base_uri": "https://localhost:8080/",
     "height": 503
    },
    "id": "0VdJH9RlwpC8",
    "outputId": "86c62126-27a7-4e20-9a52-230f7b2c7625"
   },
   "outputs": [],
   "source": [
    "meal_counts['diffmeals'].fillna(0, inplace= True)"
   ]
  },
  {
   "cell_type": "code",
   "execution_count": null,
   "metadata": {
    "colab": {
     "base_uri": "https://localhost:8080/",
     "height": 870
    },
    "id": "egtcNwj5OTPg",
    "outputId": "566fa423-7e3c-49b7-b9da-da2eca325240"
   },
   "outputs": [],
   "source": [
    "meal_counts"
   ]
  },
  {
   "cell_type": "code",
   "execution_count": null,
   "metadata": {
    "colab": {
     "base_uri": "https://localhost:8080/"
    },
    "id": "vC_JpvZ3oLsb",
    "outputId": "2eabac8f-3204-4abf-f6b2-cae133b401c0"
   },
   "outputs": [],
   "source": [
    "df1 = dataset.groupby(['week_serial_number', 'region']).nunique()['day_of_week'].reset_index(name='number_of_days_operated')\n",
    "df2 = df1.groupby('week_serial_number').sum()['number_of_days_operated']"
   ]
  },
  {
   "cell_type": "code",
   "execution_count": null,
   "metadata": {
    "colab": {
     "base_uri": "https://localhost:8080/"
    },
    "id": "3dfbtKk8omIU",
    "outputId": "7ce4d6e4-8fb2-4d71-c216-c73b145c5c6d"
   },
   "outputs": [],
   "source": [
    "dataset['Relative_Week_Number'].unique()"
   ]
  },
  {
   "cell_type": "code",
   "execution_count": null,
   "metadata": {
    "colab": {
     "base_uri": "https://localhost:8080/",
     "height": 206
    },
    "id": "FiRYEcv_jK3I",
    "outputId": "3607faea-2587-469e-ae63-023be9c21781"
   },
   "outputs": [],
   "source": [
    "validating.head()"
   ]
  },
  {
   "cell_type": "code",
   "execution_count": null,
   "metadata": {
    "colab": {
     "base_uri": "https://localhost:8080/",
     "height": 417
    },
    "id": "_9Q9lr__kkDK",
    "outputId": "cdfc7127-4bb9-4a32-da51-ab536c0890df"
   },
   "outputs": [],
   "source": [
    "## Graph to show process with data cleaning\n",
    "fig = px.bar(validating, x='Steps', y='#Rows',\n",
    "             hover_data=['Step'], color='Steps', color_discrete_sequence=['#009ACD'], labels={'Step':'Our data'}, height=400)\n",
    "fig.update_layout(title='Our Process with Data Cleaning')\n",
    "fig.update_xaxes(title_text='Stages')\n",
    "fig.update_yaxes(title_text='Number of Rows')\n",
    "fig.show()\n",
    "\n"
   ]
  },
  {
   "cell_type": "code",
   "execution_count": null,
   "metadata": {
    "colab": {
     "base_uri": "https://localhost:8080/",
     "height": 417
    },
    "id": "BAlHQ4mhwhQi",
    "outputId": "3d083fa7-9a86-41e6-ff93-2de452665f37"
   },
   "outputs": [],
   "source": [
    "import plotly.express as px\n",
    "\n",
    "fig = px.bar(validating, x='Steps', y='#Rows',\n",
    "             hover_data=['Step'], color_discrete_sequence=['#6922de'], labels={'Step':'Our data'}, height=400)\n",
    "fig.update_layout(title='Our Process with Data Cleaning')\n",
    "fig.update_xaxes(title_text='Stages')\n",
    "fig.update_yaxes(title_text='Number of Rows')\n",
    "fig.show()"
   ]
  },
  {
   "cell_type": "code",
   "execution_count": null,
   "metadata": {
    "colab": {
     "base_uri": "https://localhost:8080/",
     "height": 649
    },
    "id": "bWuKiFmVuidK",
    "outputId": "3a58beeb-7782-46cd-9360-3566e0af0e5c"
   },
   "outputs": [],
   "source": [
    "import pandas as pd\n",
    "import matplotlib.pyplot as plt\n",
    "dataset['week_number'] = pd.to_numeric(dataset['week_number'], errors='coerce')\n",
    "dataset['served_meals'] = pd.to_numeric(dataset['served_meals'], errors='coerce')\n",
    "dataset = dataset.sort_values('week_number')\n",
    "plt.bar(dataset['week_number'], dataset['served_meals'], label='Meals Served')\n",
    "event_indices = np.where(dataset['event'] == 1)[0]\n",
    "plt.plot(dataset['week_number'].iloc[event_indices], trendline[event_indices], 'ro', markersize=5)\n",
    "plt.xlabel('Week')\n",
    "plt.ylabel('Count')\n",
    "plt.title('Meals Served with Events')\n",
    "plt.legend()\n",
    "plt.show()"
   ]
  },
  {
   "cell_type": "code",
   "execution_count": null,
   "metadata": {
    "colab": {
     "base_uri": "https://localhost:8080/",
     "height": 236
    },
    "id": "RUk1BT1J30IJ",
    "outputId": "a925a8db-d1b7-4c68-a72a-974c57f34555"
   },
   "outputs": [],
   "source": [
    "site_meals_served = dataset.groupby('Relative_Week_Number')[['meals_needed', 'event', 'year']].mean().reset_index()\n",
    "fig = px.bar(site_meals_served, x=\"Relative_Week_Number\", y=\"meals_needed\", color=\"Relative_Week_Number\", barmode=\"group\")\n",
    "\n",
    "help_fig = px.scatter(site_meals_served, x=\"Relative_Week_Number\", y=\"event\", trendline=\"ols\")\n",
    "x_trend = help_fig[\"data\"][1]['x']\n",
    "y_trend = help_fig[\"data\"][1]['y']\n",
    "\n",
    "fig.add_trace(go.Line(x=x_trend, y=y_trend))\n",
    "fig.update_layout(title='Number of Meals Needed with Events')\n",
    "fig.update_xaxes(title_text='Week of Operation')\n",
    "fig.update_yaxes(title_text='Meals Needed')\n",
    "fig.update_traces(name='Event?')\n",
    "\n",
    "fig.show(config={'displayModeBar': False})"
   ]
  },
  {
   "cell_type": "code",
   "execution_count": null,
   "metadata": {
    "colab": {
     "base_uri": "https://localhost:8080/",
     "height": 542
    },
    "id": "YggaW0TS_1xS",
    "outputId": "02521855-a933-4798-ccde-71ea1976a159"
   },
   "outputs": [],
   "source": [
    "import plotly.graph_objects as go\n",
    "import plotly.express as px\n",
    "\n",
    "site_meals_served = dataset.groupby(['Relative_Week_Number'])[['meals_needed', 'event']].mean().reset_index()\n",
    "fig = px.bar(site_meals_served, x=\"Relative_Week_Number\", y=\"meals_needed\", color='Relative_Week_Number', barmode=\"group\")\n",
    "\n",
    "help_fig = px.scatter(site_meals_served, x=\"Relative_Week_Number\", y=\"event\", trendline=\"ols\")\n",
    "x_trend = help_fig[\"data\"][1]['x']\n",
    "y_trend = help_fig[\"data\"][1]['y']\n",
    "\n",
    "fig.show()"
   ]
  },
  {
   "cell_type": "code",
   "execution_count": null,
   "metadata": {
    "id": "QLHOwSO04xz_"
   },
   "outputs": [],
   "source": [
    "dataset.head()"
   ]
  },
  {
   "cell_type": "code",
   "execution_count": null,
   "metadata": {
    "colab": {
     "base_uri": "https://localhost:8080/",
     "height": 542
    },
    "id": "rp8_NSqD6QcZ",
    "outputId": "eb2f2c71-7f96-4fcf-ebaa-afb796dda385"
   },
   "outputs": [],
   "source": [
    "import plotly.express as px\n",
    "\n",
    "import plotly.express as px\n",
    "fig = px.sunburst(dataset, path=['year', 'region', 'site_name'], values='wasted_meals')\n",
    "fig.update_traces(textinfo='label+percent parent')\n",
    "\n",
    "fig.update_layout(title='The Percent of Meals Wasted')\n",
    "\n",
    "fig.show()"
   ]
  },
  {
   "cell_type": "code",
   "execution_count": null,
   "metadata": {
    "colab": {
     "base_uri": "https://localhost:8080/",
     "height": 503
    },
    "id": "H_ajDh3V0Ka6",
    "outputId": "8b61f35f-4c4f-4f9b-86cf-1e433d21b911"
   },
   "outputs": [],
   "source": [
    "meals_dataset['meals_needed_2'] = meals_dataset['unserved_people'] + meals_dataset['served_meals'] + meals_dataset['wasted_meals']"
   ]
  },
  {
   "cell_type": "code",
   "execution_count": null,
   "metadata": {
    "colab": {
     "base_uri": "https://localhost:8080/",
     "height": 312
    },
    "id": "xoE_9_3r2Oqx",
    "outputId": "cbbba1ee-d993-40c3-de7e-4e06fe673a0b"
   },
   "outputs": [],
   "source": [
    "meals_dataset.groupby('year')['served_meals'].sum()"
   ]
  },
  {
   "cell_type": "code",
   "execution_count": null,
   "metadata": {
    "colab": {
     "base_uri": "https://localhost:8080/",
     "height": 312
    },
    "id": "SMF6aLm40lG6",
    "outputId": "a0a40627-fc6b-49d4-9109-b3b119b9c89d"
   },
   "outputs": [],
   "source": [
    "yearly_ordered = meals_dataset.groupby('year')[['meals_needed_2', 'ordered_meals']].sum().reset_index()"
   ]
  },
  {
   "cell_type": "code",
   "execution_count": null,
   "metadata": {
    "colab": {
     "base_uri": "https://localhost:8080/"
    },
    "id": "jHeAM6ry0QPO",
    "outputId": "13d99680-ae9f-4d45-d351-234e8ca5ec97"
   },
   "outputs": [],
   "source": [
    "dataset.columns"
   ]
  },
  {
   "cell_type": "code",
   "execution_count": null,
   "metadata": {
    "colab": {
     "base_uri": "https://localhost:8080/",
     "height": 184
    },
    "id": "naU4BwK9jeX-",
    "outputId": "f89774ba-f333-4b44-89dd-261bbcfd4d75"
   },
   "outputs": [],
   "source": [
    "fig = px.line(yearly_ordered, x=\"year\", y=\"meals_needed_2\", title='Life expectancy in Canada')\n",
    "fig.show()"
   ]
  },
  {
   "cell_type": "code",
   "execution_count": null,
   "metadata": {
    "colab": {
     "base_uri": "https://localhost:8080/",
     "height": 312
    },
    "id": "_1SsJB4X1EUX",
    "outputId": "8610c46d-7109-4dbe-8dcd-6dd986359287"
   },
   "outputs": [],
   "source": [
    "meals_dataset.groupby('year')"
   ]
  },
  {
   "cell_type": "code",
   "execution_count": null,
   "metadata": {
    "colab": {
     "base_uri": "https://localhost:8080/",
     "height": 503
    },
    "id": "Do1QHT9A-2h4",
    "outputId": "a4118f4e-2a52-476c-9933-4681b4cde190"
   },
   "outputs": [],
   "source": [
    "meals_2020 = data_test[meals_dataset['year'] == 2020]"
   ]
  },
  {
   "cell_type": "code",
   "execution_count": null,
   "metadata": {
    "colab": {
     "base_uri": "https://localhost:8080/",
     "height": 503
    },
    "id": "cWlITQ64_C2D",
    "outputId": "696406e5-c057-47e7-c04c-b98918bd2cd7"
   },
   "outputs": [],
   "source": [
    "meals_2021 = meals_dataset[meals_dataset['year'] == 2021]"
   ]
  },
  {
   "cell_type": "code",
   "execution_count": null,
   "metadata": {
    "colab": {
     "base_uri": "https://localhost:8080/"
    },
    "id": "JhbjME5HGW-l",
    "outputId": "630a28e2-82a7-4fe7-e37c-5f401bfc0715"
   },
   "outputs": [],
   "source": [
    "data_test.columns"
   ]
  },
  {
   "cell_type": "code",
   "execution_count": null,
   "metadata": {
    "id": "cvVVqxkL93XR"
   },
   "outputs": [],
   "source": [
    "import math\n",
    "\n",
    "def divide_meals_by_5(counts):\n",
    "  meal_numbers = ['Number of Meals Received / Prepared',\n",
    "       'Meals available from previous day', 'Total number of first meals ',\n",
    "       'Total number second meals', 'total program adult meals',\n",
    "       'total non-program adult meals', 'total number of meals served',\n",
    "       'Total damaged/incomplete/other non-reimbursable meals',\n",
    "       'Total leftover meals',\n",
    "       'Number of additional children requesting meals after all available meals were served:']\n",
    "\n",
    "  for column in meal_numbers:\n",
    "    counts[column] = counts[column].apply(lambda x: math.ceil(x // 5))\n",
    "\n",
    "divide_meals_by_5(data_test)\n"
   ]
  },
  {
   "cell_type": "code",
   "execution_count": null,
   "metadata": {
    "colab": {
     "base_uri": "https://localhost:8080/",
     "height": 661
    },
    "id": "Fm3YrXTH9pVM",
    "outputId": "bb262b6f-58f1-48c1-fd2e-6c9a1626770e"
   },
   "outputs": [],
   "source": [
    "data_test.head()"
   ]
  },
  {
   "cell_type": "code",
   "execution_count": null,
   "metadata": {
    "id": "FP-VKyS8Gqqq"
   },
   "outputs": [],
   "source": [
    "data_test = data_test[['Number of Meals Received / Prepared',\n",
    "       'Meals available from previous day', 'Total number of first meals ',\n",
    "       'Total number second meals', 'total program adult meals',\n",
    "       'total non-program adult meals', 'total number of meals served',\n",
    "       'Total damaged/incomplete/other non-reimbursable meals',\n",
    "       'Total leftover meals',\n",
    "       'Number of additional children requesting meals after all available meals were served:']]"
   ]
  },
  {
   "cell_type": "code",
   "execution_count": null,
   "metadata": {
    "colab": {
     "base_uri": "https://localhost:8080/",
     "height": 872
    },
    "id": "dJzgt3EJG4cO",
    "outputId": "4aa1488e-5522-47a3-9557-ecd9c498fc87"
   },
   "outputs": [],
   "source": [
    "meals_dataset.head()"
   ]
  },
  {
   "cell_type": "code",
   "execution_count": null,
   "metadata": {
    "id": "QUE6tAQWHLla"
   },
   "outputs": [],
   "source": [
    "df3 = pd.concat([meals_dataset, data_test], ignore_index=True)"
   ]
  },
  {
   "cell_type": "code",
   "execution_count": null,
   "metadata": {
    "colab": {
     "base_uri": "https://localhost:8080/"
    },
    "id": "DqcTVeFSjmIA",
    "outputId": "b83d801a-ab19-459a-924a-df007cb81bb9"
   },
   "outputs": [],
   "source": [
    "meals_dataset.columns"
   ]
  },
  {
   "cell_type": "code",
   "execution_count": null,
   "metadata": {
    "id": "z5LHWTKIagGn"
   },
   "outputs": [],
   "source": [
    "meals_dataset['available_meals'] = meals_dataset['Number of Meals Received / Prepared'] + meals_dataset['Meals available from previous day']"
   ]
  },
  {
   "cell_type": "code",
   "execution_count": null,
   "metadata": {
    "colab": {
     "base_uri": "https://localhost:8080/",
     "height": 783
    },
    "id": "vF2UqIah8SD9",
    "outputId": "0401c16b-24eb-479b-8d8d-693979dd6ad8"
   },
   "outputs": [],
   "source": [
    "import pandas as pd\n",
    "import matplotlib.pyplot as plt\n",
    "import seaborn as sns\n",
    "\n",
    "yearly_meals = meals_dataset.groupby('Year').sum()[['total number of meals served']].reset_index()\n",
    "# Set the figure size and background color\n",
    "plt.figure(figsize=(10, 6))\n",
    "plt.style.use('seaborn-whitegrid')\n",
    "# Define a color palette\n",
    "colors = ['#6922de', '#ad98cf']\n",
    "# Plot the line for ordered meals with data labels\n",
    "plt.plot(yearly_meals['Year'], yearly_meals['total number of meals served'], marker='o', markersize=8, label='Served Meals', color=colors[0], linewidth=2)\n",
    "# Fill the area between the lines with a gradient color\n",
    "plt.fill_between(yearly_meals['Year'], yearly_meals['total number of meals served'], alpha=0.3, color=colors[1])\n",
    "# Add a reference line at zero\n",
    "plt.axhline(0, color='gray', linestyle='--')\n",
    "# Set the chart title and labels with increased font sizes\n",
    "plt.title('Served Meals Over Years', fontsize=18)\n",
    "plt.xlabel('Year', fontsize=12)\n",
    "plt.ylabel('Number of Meals', fontsize=12)\n",
    "# Display a legend with proper font size\n",
    "plt.legend(fontsize=12)\n",
    "# Rotate the x-axis tick labels for better readability\n",
    "plt.xticks(rotation=45, fontsize=10)\n",
    "# Add data labels to each point on the lines with custom positioning and formatting\n",
    "# Adjust the layout to avoid cutting off labels or tick marks\n",
    "plt.tight_layout()\n",
    "# Show the plot\n",
    "plt.figure(figsize=(1, 45), dpi=200)\n",
    "plt.show()"
   ]
  },
  {
   "cell_type": "code",
   "execution_count": null,
   "metadata": {
    "colab": {
     "base_uri": "https://localhost:8080/"
    },
    "id": "GUnY8RuLDr2c",
    "outputId": "c78b529b-51f7-4a1f-fab7-5c3d117dec62"
   },
   "outputs": [],
   "source": [
    "meals_dataset.columns"
   ]
  },
  {
   "cell_type": "code",
   "execution_count": null,
   "metadata": {
    "colab": {
     "base_uri": "https://localhost:8080/",
     "height": 206
    },
    "id": "AxU3vbuJ80Ht",
    "outputId": "9dab2bd3-dc90-4de1-da10-197b638e4127"
   },
   "outputs": [],
   "source": [
    "yearly_meals.head()"
   ]
  },
  {
   "cell_type": "code",
   "execution_count": null,
   "metadata": {
    "colab": {
     "base_uri": "https://localhost:8080/",
     "height": 887
    },
    "id": "6WbxWwjq9ZZ1",
    "outputId": "7b688dc4-fccf-47bb-99a2-531f12ae7765"
   },
   "outputs": [],
   "source": [
    "dataset[dataset['year'] == 2020]"
   ]
  },
  {
   "cell_type": "code",
   "execution_count": null,
   "metadata": {
    "id": "uaPsXgaW-GS3"
   },
   "outputs": [],
   "source": [
    "yearly_dataset = dataset.groupby('year')"
   ]
  },
  {
   "cell_type": "code",
   "execution_count": null,
   "metadata": {
    "colab": {
     "base_uri": "https://localhost:8080/"
    },
    "id": "IZ2vKWx8Vd9R",
    "outputId": "c3addcf6-90e5-45eb-dd46-abce59eb09b2"
   },
   "outputs": [],
   "source": [
    "meals_dataset.columns"
   ]
  },
  {
   "cell_type": "code",
   "execution_count": null,
   "metadata": {
    "colab": {
     "base_uri": "https://localhost:8080/"
    },
    "id": "MTAAa_Zzz_cb",
    "outputId": "8f9d7d9a-c29e-41b9-8014-2defcd71682e"
   },
   "outputs": [],
   "source": [
    "dataset.groupby('year')['ordered_meals'].sum()"
   ]
  },
  {
   "cell_type": "code",
   "execution_count": null,
   "metadata": {
    "colab": {
     "base_uri": "https://localhost:8080/"
    },
    "id": "TlpxzNfb0LKP",
    "outputId": "bc6b8291-6fc5-42b1-d435-7d327d931679"
   },
   "outputs": [],
   "source": [
    "dataset.groupby('year')['served_meals'].sum()"
   ]
  },
  {
   "cell_type": "code",
   "execution_count": null,
   "metadata": {
    "id": "QAzs8Sya0rpF"
   },
   "outputs": [],
   "source": [
    "site_meals_served = (dataset.groupby('year')['ordered_meals'].sum() - dataset.groupby('year')['served_meals'].sum()) / dataset.groupby('year')['ordered_meals'].sum() * 100"
   ]
  },
  {
   "cell_type": "code",
   "execution_count": null,
   "metadata": {
    "colab": {
     "base_uri": "https://localhost:8080/",
     "height": 482
    },
    "id": "cCdoYc232I84",
    "outputId": "9cbaa1e1-8893-4462-e2f1-03dbe5a8fa39"
   },
   "outputs": [],
   "source": [
    "site_meals_served.plot(kind='bar', color='#6922de')\n",
    "plt.title('Percentage of meals wasted per year')\n",
    "plt.xlabel('Year')\n",
    "plt.ylabel('Percentage')\n",
    "plt.show()"
   ]
  },
  {
   "cell_type": "code",
   "execution_count": null,
   "metadata": {
    "colab": {
     "base_uri": "https://localhost:8080/",
     "height": 728
    },
    "id": "3N94SHIgVyjU",
    "outputId": "b2532d3a-1170-41af-8961-8b42e84170a3"
   },
   "outputs": [],
   "source": [
    "site_meals_served = dataset.groupby('year')['Percentage of Wasted'].mean().reset_index()\n",
    "plt.figure(figsize=(8,8))\n",
    "sns.barplot(data=site_meals_served, x='year', y='Percentage of Wasted', label='Wasted', color='#6922de')\n",
    "plt.xlabel('Year')\n",
    "plt.ylabel('Percentage of Wasted Meals')\n",
    "plt.title('Percentage of Wasted Meals per Year')"
   ]
  }
 ],
 "metadata": {
  "colab": {
   "provenance": []
  },
  "kernelspec": {
   "display_name": "Python 3 (ipykernel)",
   "language": "python",
   "name": "python3"
  },
  "language_info": {
   "codemirror_mode": {
    "name": "ipython",
    "version": 3
   },
   "file_extension": ".py",
   "mimetype": "text/x-python",
   "name": "python",
   "nbconvert_exporter": "python",
   "pygments_lexer": "ipython3",
   "version": "3.9.13"
  }
 },
 "nbformat": 4,
 "nbformat_minor": 1
}
